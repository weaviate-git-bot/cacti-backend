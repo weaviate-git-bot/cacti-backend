{
 "cells": [
  {
   "cell_type": "code",
   "execution_count": 89,
   "metadata": {},
   "outputs": [],
   "source": [
    "import sys\n",
    "sys.path.insert(0, r'C:\\Users\\HARSH\\Documents\\chatweb3-backend')\n",
    "from utils import *\n",
    "set_api_key()"
   ]
  },
  {
   "cell_type": "code",
   "execution_count": 90,
   "metadata": {},
   "outputs": [],
   "source": [
    "import re\n",
    "import requests\n",
    "\n",
    "from langchain.llms import OpenAI\n",
    "from langchain.chains import LLMChain\n",
    "from langchain.prompts import PromptTemplate\n",
    "from langchain.prompts.base import BaseOutputParser\n",
    "\n",
    "\n",
    "TEMPLATE = \\\n",
    "'''\n",
    "Query: {query}\n",
    "Note: The query is related to the blockchain ecosystem.\n",
    "Generate 10 related searches most asked on the web. \n",
    "1.'''\n",
    "\n",
    "class ChatOutputParser(BaseOutputParser):\n",
    "\n",
    "    @property\n",
    "    def _type(self) -> str:\n",
    "        \"\"\"Return the type key.\"\"\"\n",
    "        return \"chat_output_parser\"\n",
    "\n",
    "    def parse(self, text: str) -> str:\n",
    "        \"\"\"Parse the output of an LLM call.\"\"\"\n",
    "        text = text.strip()\n",
    "        text = re.sub(r\"\\d+. \", '', text)\n",
    "        text = text.split('\\n')\n",
    "        return text"
   ]
  },
  {
   "cell_type": "code",
   "execution_count": 91,
   "metadata": {},
   "outputs": [],
   "source": [
    "\n",
    "class SearchURLs():\n",
    "    def __init__(self,) -> None:\n",
    "        super().__init__()\n",
    "        llm = OpenAI(\n",
    "            temperature=1.0, max_tokens=-1,\n",
    "        )\n",
    "        output_parser = ChatOutputParser()\n",
    "        relSearch_prompt = PromptTemplate(\n",
    "            input_variables=[\"query\"],\n",
    "            template=TEMPLATE,\n",
    "            output_parser=output_parser,\n",
    "        )\n",
    "        self.chain = LLMChain(llm=llm, prompt=relSearch_prompt, verbose=False)\n",
    "\n",
    "        subscription_key=\"df01e65a4da8434b841e8a81b34c9d25\"\n",
    "        self.search_url = \"https://api.bing.microsoft.com/v7.0/search\"\n",
    "        self.headers = {\"Ocp-Apim-Subscription-Key\" : subscription_key}\n",
    "\n",
    "    def via_llm(self, query): \n",
    "        relSearches = self.chain.apply_and_parse([{\"query\": query}])[0]\n",
    "        return relSearches\n",
    "\n",
    "    def via_bing(self, query):\n",
    "        query = query+\" Note: The query is related to the blockchain ecosystem.\"\n",
    "        params  = {\"q\": query, \"textDecorations\": True, \"textFormat\": \"HTML\"}\n",
    "        response = requests.get(self.search_url, headers=self.headers, params=params)\n",
    "        response.raise_for_status()\n",
    "        response = response.json()\n",
    "        urls = [x['url'] for x in response['webPages']['value']]\n",
    "        try: relSearches = [r['text'] for r in response['relatedSearches']['value']]\n",
    "        except: relSearches = []\n",
    "        return urls, relSearches"
   ]
  },
  {
   "cell_type": "code",
   "execution_count": 92,
   "metadata": {},
   "outputs": [],
   "source": [
    "with open(\"basic_questions.txt\") as file:\n",
    "    queries = [line.rstrip() for line in file]"
   ]
  },
  {
   "cell_type": "code",
   "execution_count": 93,
   "metadata": {},
   "outputs": [],
   "source": [
    "def find_urls(query, searcher, depth):\n",
    "    urls, relS_bing = searcher.via_bing(query)\n",
    "    relS_llm = searcher.via_llm(query)\n",
    "    print({query: urls})\n",
    "    if depth==0: return {query: urls}\n",
    "    relS = relS_bing + relS_llm\n",
    "    q_urls = []\n",
    "    for q in relS:\n",
    "        x = find_urls(q, searcher, depth=depth-1)\n",
    "        q_urls.append(x)\n",
    "    return q_urls"
   ]
  },
  {
   "cell_type": "code",
   "execution_count": 94,
   "metadata": {},
   "outputs": [
    {
     "name": "stdout",
     "output_type": "stream",
     "text": [
      "{'What is web3?': ['https://hbr.org/2022/05/what-is-web3', 'https://ethereum.org/en/web3/', 'https://www.gemini.com/cryptopedia/what-is-web3-explained-blockchain-and-web3-crypto-projects', 'https://www.nytimes.com/interactive/2022/03/18/technology/web3-definition-internet.html', 'https://chain.link/education/web3', 'https://www.forbes.com/sites/bernardmarr/2022/01/24/what-is-web3-all-about-an-easy-explanation-with-examples/', 'https://byjus.com/current-affairs/web-3-0/', 'https://consensys.net/blog/blockchain-explained/what-is-web3-here-are-some-ways-to-explain-it-to-a-friend/', 'https://www.geeksforgeeks.org/what-is-blockchain-ecosystem/', 'https://crypto-current.co/what-are-web3-ecosystems/']}\n",
      "{'What is the purpose of web3?': ['https://hbr.org/2022/05/what-is-web3', 'https://ethereum.org/en/web3/', 'https://en.wikipedia.org/wiki/Web3', 'https://www.nytimes.com/interactive/2022/03/18/technology/web3-definition-internet.html', 'https://www.pcmag.com/how-to/what-is-web3-and-how-will-it-work', 'https://www.thedrum.com/opinion/2022/02/09/what-web3-and-why-does-it-matter', 'https://www.gemini.com/cryptopedia/what-is-web3-explained-blockchain-and-web3-crypto-projects', 'https://www.drishtiias.com/daily-updates/daily-news-analysis/web-3-0', 'https://byjus.com/current-affairs/web-3-0/', 'https://consensys.net/blog/blockchain-explained/what-is-web3-here-are-some-ways-to-explain-it-to-a-friend/']}\n"
     ]
    },
    {
     "name": "stderr",
     "output_type": "stream",
     "text": [
      "Retrying langchain.llms.openai.BaseOpenAI.completion_with_retry.<locals>._completion_with_retry in 4.0 seconds as it raised RateLimitError: Rate limit reached for default-text-davinci-003 in organization org-mrK2kSCEDDLFwshwzA1wjEBX on tokens per min. Limit: 250000 / min. Current: 324680 / min. Contact support@openai.com if you continue to have issues..\n"
     ]
    },
    {
     "name": "stdout",
     "output_type": "stream",
     "text": [
      "{'What is the role of web3 in blockchain?': ['https://101blockchains.com/blockchain-in-web-3-0/', 'https://hbr.org/2022/05/what-is-web3', 'https://blog.gaurav-dhiman.com/what-is-web3-and-role-of-blockchain-and-crypto-in-it', 'https://www.blockchain-council.org/blockchain/blockchain-technology-in-web-3-0/', 'https://www.gemini.com/cryptopedia/what-is-web3-explained-blockchain-and-web3-crypto-projects', 'https://academy.binance.com/en/articles/what-s-the-relationship-between-blockchain-and-web3', 'https://blockchain-comparison.com/blockchain-knowledge-base/web-3/', 'https://www.cloudflare.com/learning/insights-how-blockchain-web3/', 'https://101blockchains.com/flux-web3/', 'https://www.geeksforgeeks.org/what-is-blockchain-ecosystem/']}\n",
      "{'What is the web3 JavaScript API?': ['https://web3js.org/', 'https://moralis.io/web3-and-javascript-what-is-javascript-and-web3-js/', 'https://web3.hashnode.com/what-is-web3js-an-introduction-into-the-web3js-libraries', 'https://stackoverflow.com/questions/75504501/connecting-with-a-blockchain-node-using-web3-js', 'https://www.codemotion.com/magazine/backend/blockchain/web3-js-ethereum-blockchain-javascript-api/', 'https://ethereum.org/en/web3/', 'https://www.cloudflare.com/learning/insights-how-blockchain-web3/', 'https://ethereum.org/en/developers/docs/apis/javascript/', 'https://consensys.net/blog/blockchain-explained/what-is-web3-here-are-some-ways-to-explain-it-to-a-friend/', 'https://www.gemini.com/cryptopedia/what-is-web3-explained-blockchain-and-web3-crypto-projects']}\n",
      "{'How to use web3?': ['https://ethereum.org/en/web3/', 'https://www.phuture.finance/learn/web3-how-to-use-it', 'https://www.analyticsvidhya.com/blog/2023/01/complete-guide-to-web3-0-ethereum-blockchain-using-python/', 'https://www.binance.com/en-IN/blog/ecosystem/binance-labs-empowering-web3-and-blockchain-technologies-421499824684903923', 'https://dev.to/neelansh15/blockchain-in-javascript-transfer-ether-between-accounts-131h', 'https://soliditydeveloper.com/thegraph', 'https://www.geeksforgeeks.org/what-is-blockchain-ecosystem/', 'https://101blockchains.com/blockchain-ecosystem/', 'https://www.youtube.com/watch?v=yubzJw0uiE4', 'https://bitquery.io/blog/best-blockchain-analysis-tools-and-software']}\n",
      "{'What is the difference between web3 and Ethereum?': ['https://ethereum.org/en/web3/', 'https://ethereum.org/en/developers/docs/web2-vs-web3/', 'https://www.makeuseof.com/difference-between-web3-blockchain-cryptocurrency/', 'https://www.gemini.com/cryptopedia/defi-and-web3-explained-defi-crypto-options-web3-crypto', 'https://dev.to/cibrax/the-web3-ecosystem-for-ethereum-186k', 'https://medium.com/blockchain-new-normal/difference-between-web3-blockchain-and-cryptocurrency-13204807e090', 'https://hbr.org/2022/05/what-is-web3', 'https://www.geeksforgeeks.org/what-is-ethereum/', 'https://difference.guru/difference-between-blockchain-and-web3/', 'https://101blockchains.com/flux-web3/']}\n",
      "{'What are web3 contracts?': ['https://moralis.io/what-are-web3-contracts-exploring-smart-contracts/', 'https://hbr.org/2022/05/what-is-web3', 'https://www.mckinsey.com/industries/financial-services/our-insights/web3-beyond-the-hype', 'https://www.cloudflare.com/learning/insights-how-blockchain-web3/', 'https://ethereum.org/en/web3/', 'https://blog.logrocket.com/web3-py-tutorial-guide-ethereum-blockchain-development-with-python/', 'https://www.gemini.com/cryptopedia/what-is-web3-explained-blockchain-and-web3-crypto-projects', 'https://www.analyticsvidhya.com/blog/2023/01/complete-guide-to-web3-0-ethereum-blockchain-using-python/', 'https://consensys.net/blog/blockchain-explained/what-is-web3-here-are-some-ways-to-explain-it-to-a-friend/', 'https://www.codemotion.com/magazine/backend/blockchain/what-is-web3-and-what-new-capabilities-does-it-bring/']}\n",
      "{'What are the key features of web3?': ['https://www.expert.ai/blog/web-3-0/', 'https://101blockchains.com/top-web3-features/', 'https://ethereum.org/en/web3/', 'https://permission.io/blog/web-3-0/', 'https://www.gemini.com/cryptopedia/what-is-web3-explained-blockchain-and-web3-crypto-projects', 'https://vitalflux.com/what-is-web3-0-features-design-skills-nfts/', 'https://byjus.com/current-affairs/web-3-0/', 'https://www.blockchain-council.org/web-3/understanding-the-interrelationship-between-web3-and-blockchain/', 'https://consensys.net/blog/blockchain-explained/what-is-web3-here-are-some-ways-to-explain-it-to-a-friend/', 'https://www.blockchain-council.org/blockchain/blockchain-technology-in-web-3-0/']}\n",
      "{'How web3 works?': ['https://www.pcmag.com/how-to/what-is-web3-and-how-will-it-work', 'https://hbr.org/2022/05/what-is-web3', 'https://ethereum.org/en/web3/', 'https://www.gemini.com/cryptopedia/what-is-web3-explained-blockchain-and-web3-crypto-projects', 'https://www.businessinsider.com/personal-finance/what-is-web3', 'https://www.cloudflare.com/learning/insights-how-blockchain-web3/', 'https://moralis.io/how-does-web3-work-web3-explained/', 'https://www.blockchain-council.org/blockchain/blockchain-technology-in-web-3-0/', 'https://101blockchains.com/blockchain-in-web-3-0/', 'https://consensys.net/blog/blockchain-explained/what-is-web3-here-are-some-ways-to-explain-it-to-a-friend/']}\n",
      "{'What is the web3 crypto library?': ['https://crypto.com/university/what-is-web3/', 'https://hbr.org/2022/05/what-is-web3', 'https://www.coindesk.com/learn/what-are-web3-cryptos/', 'https://ethereum.org/en/web3/', 'https://www.coincarp.com/learn/what-is-web30-crypto/', 'https://cryptonews.com/guides/what-is-web3.htm', 'https://crypto.news/learn/what-is-web3/', 'https://www.gemini.com/cryptopedia/what-is-web3-explained-blockchain-and-web3-crypto-projects', 'https://www.quora.com/What-is-Web3-in-crypto', 'https://crypto-current.co/what-are-web3-ecosystems/']}\n",
      "{'What type of blockchain is web3?': ['https://ethereum.org/en/web3/', 'https://www.gemini.com/cryptopedia/what-is-web3-explained-blockchain-and-web3-crypto-projects', 'https://101blockchains.com/blockchain-in-web-3-0/', 'https://www.blockchain-council.org/blockchain/blockchain-technology-in-web-3-0/', 'https://www.geeksforgeeks.org/types-of-blockchain/', 'https://www.binance.com/en-IN/blog/ecosystem/binance-labs-empowering-web3-and-blockchain-technologies-421499824684903923', 'https://georgian.io/why-we-need-blockchain-data-infrastructure-to-build-web3/', 'https://www.freecodecamp.org/news/blockchain-apis-how-to-query-on-the-blockchain/', 'https://www.geeksforgeeks.org/what-is-blockchain-ecosystem/', 'https://101blockchains.com/blockchain-ecosystem/']}\n"
     ]
    }
   ],
   "source": [
    "searcher = SearchURLs()\n",
    "for q in queries:\n",
    "    urls = find_urls(q, searcher, depth=1)\n",
    "    break"
   ]
  },
  {
   "cell_type": "code",
   "execution_count": 95,
   "metadata": {},
   "outputs": [
    {
     "data": {
      "text/plain": [
       "[{'What is the purpose of web3?': ['https://hbr.org/2022/05/what-is-web3',\n",
       "   'https://ethereum.org/en/web3/',\n",
       "   'https://en.wikipedia.org/wiki/Web3',\n",
       "   'https://www.nytimes.com/interactive/2022/03/18/technology/web3-definition-internet.html',\n",
       "   'https://www.pcmag.com/how-to/what-is-web3-and-how-will-it-work',\n",
       "   'https://www.thedrum.com/opinion/2022/02/09/what-web3-and-why-does-it-matter',\n",
       "   'https://www.gemini.com/cryptopedia/what-is-web3-explained-blockchain-and-web3-crypto-projects',\n",
       "   'https://www.drishtiias.com/daily-updates/daily-news-analysis/web-3-0',\n",
       "   'https://byjus.com/current-affairs/web-3-0/',\n",
       "   'https://consensys.net/blog/blockchain-explained/what-is-web3-here-are-some-ways-to-explain-it-to-a-friend/']},\n",
       " {'What is the role of web3 in blockchain?': ['https://101blockchains.com/blockchain-in-web-3-0/',\n",
       "   'https://hbr.org/2022/05/what-is-web3',\n",
       "   'https://blog.gaurav-dhiman.com/what-is-web3-and-role-of-blockchain-and-crypto-in-it',\n",
       "   'https://www.blockchain-council.org/blockchain/blockchain-technology-in-web-3-0/',\n",
       "   'https://www.gemini.com/cryptopedia/what-is-web3-explained-blockchain-and-web3-crypto-projects',\n",
       "   'https://academy.binance.com/en/articles/what-s-the-relationship-between-blockchain-and-web3',\n",
       "   'https://blockchain-comparison.com/blockchain-knowledge-base/web-3/',\n",
       "   'https://www.cloudflare.com/learning/insights-how-blockchain-web3/',\n",
       "   'https://101blockchains.com/flux-web3/',\n",
       "   'https://www.geeksforgeeks.org/what-is-blockchain-ecosystem/']},\n",
       " {'What is the web3 JavaScript API?': ['https://web3js.org/',\n",
       "   'https://moralis.io/web3-and-javascript-what-is-javascript-and-web3-js/',\n",
       "   'https://web3.hashnode.com/what-is-web3js-an-introduction-into-the-web3js-libraries',\n",
       "   'https://stackoverflow.com/questions/75504501/connecting-with-a-blockchain-node-using-web3-js',\n",
       "   'https://www.codemotion.com/magazine/backend/blockchain/web3-js-ethereum-blockchain-javascript-api/',\n",
       "   'https://ethereum.org/en/web3/',\n",
       "   'https://www.cloudflare.com/learning/insights-how-blockchain-web3/',\n",
       "   'https://ethereum.org/en/developers/docs/apis/javascript/',\n",
       "   'https://consensys.net/blog/blockchain-explained/what-is-web3-here-are-some-ways-to-explain-it-to-a-friend/',\n",
       "   'https://www.gemini.com/cryptopedia/what-is-web3-explained-blockchain-and-web3-crypto-projects']},\n",
       " {'How to use web3?': ['https://ethereum.org/en/web3/',\n",
       "   'https://www.phuture.finance/learn/web3-how-to-use-it',\n",
       "   'https://www.analyticsvidhya.com/blog/2023/01/complete-guide-to-web3-0-ethereum-blockchain-using-python/',\n",
       "   'https://www.binance.com/en-IN/blog/ecosystem/binance-labs-empowering-web3-and-blockchain-technologies-421499824684903923',\n",
       "   'https://dev.to/neelansh15/blockchain-in-javascript-transfer-ether-between-accounts-131h',\n",
       "   'https://soliditydeveloper.com/thegraph',\n",
       "   'https://www.geeksforgeeks.org/what-is-blockchain-ecosystem/',\n",
       "   'https://101blockchains.com/blockchain-ecosystem/',\n",
       "   'https://www.youtube.com/watch?v=yubzJw0uiE4',\n",
       "   'https://bitquery.io/blog/best-blockchain-analysis-tools-and-software']},\n",
       " {'What is the difference between web3 and Ethereum?': ['https://ethereum.org/en/web3/',\n",
       "   'https://ethereum.org/en/developers/docs/web2-vs-web3/',\n",
       "   'https://www.makeuseof.com/difference-between-web3-blockchain-cryptocurrency/',\n",
       "   'https://www.gemini.com/cryptopedia/defi-and-web3-explained-defi-crypto-options-web3-crypto',\n",
       "   'https://dev.to/cibrax/the-web3-ecosystem-for-ethereum-186k',\n",
       "   'https://medium.com/blockchain-new-normal/difference-between-web3-blockchain-and-cryptocurrency-13204807e090',\n",
       "   'https://hbr.org/2022/05/what-is-web3',\n",
       "   'https://www.geeksforgeeks.org/what-is-ethereum/',\n",
       "   'https://difference.guru/difference-between-blockchain-and-web3/',\n",
       "   'https://101blockchains.com/flux-web3/']},\n",
       " {'What are web3 contracts?': ['https://moralis.io/what-are-web3-contracts-exploring-smart-contracts/',\n",
       "   'https://hbr.org/2022/05/what-is-web3',\n",
       "   'https://www.mckinsey.com/industries/financial-services/our-insights/web3-beyond-the-hype',\n",
       "   'https://www.cloudflare.com/learning/insights-how-blockchain-web3/',\n",
       "   'https://ethereum.org/en/web3/',\n",
       "   'https://blog.logrocket.com/web3-py-tutorial-guide-ethereum-blockchain-development-with-python/',\n",
       "   'https://www.gemini.com/cryptopedia/what-is-web3-explained-blockchain-and-web3-crypto-projects',\n",
       "   'https://www.analyticsvidhya.com/blog/2023/01/complete-guide-to-web3-0-ethereum-blockchain-using-python/',\n",
       "   'https://consensys.net/blog/blockchain-explained/what-is-web3-here-are-some-ways-to-explain-it-to-a-friend/',\n",
       "   'https://www.codemotion.com/magazine/backend/blockchain/what-is-web3-and-what-new-capabilities-does-it-bring/']},\n",
       " {'What are the key features of web3?': ['https://www.expert.ai/blog/web-3-0/',\n",
       "   'https://101blockchains.com/top-web3-features/',\n",
       "   'https://ethereum.org/en/web3/',\n",
       "   'https://permission.io/blog/web-3-0/',\n",
       "   'https://www.gemini.com/cryptopedia/what-is-web3-explained-blockchain-and-web3-crypto-projects',\n",
       "   'https://vitalflux.com/what-is-web3-0-features-design-skills-nfts/',\n",
       "   'https://byjus.com/current-affairs/web-3-0/',\n",
       "   'https://www.blockchain-council.org/web-3/understanding-the-interrelationship-between-web3-and-blockchain/',\n",
       "   'https://consensys.net/blog/blockchain-explained/what-is-web3-here-are-some-ways-to-explain-it-to-a-friend/',\n",
       "   'https://www.blockchain-council.org/blockchain/blockchain-technology-in-web-3-0/']},\n",
       " {'How web3 works?': ['https://www.pcmag.com/how-to/what-is-web3-and-how-will-it-work',\n",
       "   'https://hbr.org/2022/05/what-is-web3',\n",
       "   'https://ethereum.org/en/web3/',\n",
       "   'https://www.gemini.com/cryptopedia/what-is-web3-explained-blockchain-and-web3-crypto-projects',\n",
       "   'https://www.businessinsider.com/personal-finance/what-is-web3',\n",
       "   'https://www.cloudflare.com/learning/insights-how-blockchain-web3/',\n",
       "   'https://moralis.io/how-does-web3-work-web3-explained/',\n",
       "   'https://www.blockchain-council.org/blockchain/blockchain-technology-in-web-3-0/',\n",
       "   'https://101blockchains.com/blockchain-in-web-3-0/',\n",
       "   'https://consensys.net/blog/blockchain-explained/what-is-web3-here-are-some-ways-to-explain-it-to-a-friend/']},\n",
       " {'What is the web3 crypto library?': ['https://crypto.com/university/what-is-web3/',\n",
       "   'https://hbr.org/2022/05/what-is-web3',\n",
       "   'https://www.coindesk.com/learn/what-are-web3-cryptos/',\n",
       "   'https://ethereum.org/en/web3/',\n",
       "   'https://www.coincarp.com/learn/what-is-web30-crypto/',\n",
       "   'https://cryptonews.com/guides/what-is-web3.htm',\n",
       "   'https://crypto.news/learn/what-is-web3/',\n",
       "   'https://www.gemini.com/cryptopedia/what-is-web3-explained-blockchain-and-web3-crypto-projects',\n",
       "   'https://www.quora.com/What-is-Web3-in-crypto',\n",
       "   'https://crypto-current.co/what-are-web3-ecosystems/']},\n",
       " {'What type of blockchain is web3?': ['https://ethereum.org/en/web3/',\n",
       "   'https://www.gemini.com/cryptopedia/what-is-web3-explained-blockchain-and-web3-crypto-projects',\n",
       "   'https://101blockchains.com/blockchain-in-web-3-0/',\n",
       "   'https://www.blockchain-council.org/blockchain/blockchain-technology-in-web-3-0/',\n",
       "   'https://www.geeksforgeeks.org/types-of-blockchain/',\n",
       "   'https://www.binance.com/en-IN/blog/ecosystem/binance-labs-empowering-web3-and-blockchain-technologies-421499824684903923',\n",
       "   'https://georgian.io/why-we-need-blockchain-data-infrastructure-to-build-web3/',\n",
       "   'https://www.freecodecamp.org/news/blockchain-apis-how-to-query-on-the-blockchain/',\n",
       "   'https://www.geeksforgeeks.org/what-is-blockchain-ecosystem/',\n",
       "   'https://101blockchains.com/blockchain-ecosystem/']}]"
      ]
     },
     "execution_count": 95,
     "metadata": {},
     "output_type": "execute_result"
    }
   ],
   "source": [
    "urls"
   ]
  }
 ],
 "metadata": {
  "kernelspec": {
   "display_name": "base",
   "language": "python",
   "name": "python3"
  },
  "language_info": {
   "codemirror_mode": {
    "name": "ipython",
    "version": 3
   },
   "file_extension": ".py",
   "mimetype": "text/x-python",
   "name": "python",
   "nbconvert_exporter": "python",
   "pygments_lexer": "ipython3",
   "version": "3.9.13"
  },
  "orig_nbformat": 4,
  "vscode": {
   "interpreter": {
    "hash": "a50c67c2899eff48b42ce193594db3f0465d411cbcbdad9a91476e0c1ace7634"
   }
  }
 },
 "nbformat": 4,
 "nbformat_minor": 2
}
