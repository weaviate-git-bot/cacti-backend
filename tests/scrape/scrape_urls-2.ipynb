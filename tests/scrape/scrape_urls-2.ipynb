{
 "cells": [
  {
   "cell_type": "code",
   "execution_count": 13,
   "metadata": {},
   "outputs": [],
   "source": [
    "import sys\n",
    "import re\n",
    "import requests\n",
    "\n",
    "from langchain.llms import OpenAI\n",
    "from langchain.chains import LLMChain\n",
    "from langchain.prompts import PromptTemplate\n",
    "from langchain.prompts.base import BaseOutputParser\n",
    "\n",
    "sys.path.insert(0, r'C:\\Users\\HARSH\\Documents\\chatweb3-backend')\n",
    "from utils import *\n",
    "set_api_key()"
   ]
  },
  {
   "cell_type": "code",
   "execution_count": 8,
   "metadata": {},
   "outputs": [],
   "source": [
    "TEMPLATE = \\\n",
    "'''\n",
    "Query: {query}\n",
    "Note: The query is related to the blockchain ecosystem.\n",
    "Generate 10 related searches most asked on the web. \n",
    "1.'''\n",
    "\n",
    "class ChatOutputParser(BaseOutputParser):\n",
    "\n",
    "    @property\n",
    "    def _type(self) -> str:\n",
    "        \"\"\"Return the type key.\"\"\"\n",
    "        return \"chat_output_parser\"\n",
    "\n",
    "    def parse(self, text: str) -> str:\n",
    "        \"\"\"Parse the output of an LLM call.\"\"\"\n",
    "        text = text.strip()\n",
    "        text = re.sub(r\"\\d+. \", '', text)\n",
    "        text = text.split('\\n')\n",
    "        return text"
   ]
  },
  {
   "cell_type": "code",
   "execution_count": 9,
   "metadata": {},
   "outputs": [],
   "source": [
    "\n",
    "class SearchURLs():\n",
    "    def __init__(self,) -> None:\n",
    "        super().__init__()\n",
    "        llm = OpenAI(\n",
    "            temperature=1.0, max_tokens=-1,\n",
    "        )\n",
    "        output_parser = ChatOutputParser()\n",
    "        relSearch_prompt = PromptTemplate(\n",
    "            input_variables=[\"query\"],\n",
    "            template=TEMPLATE,\n",
    "            output_parser=output_parser,\n",
    "        )\n",
    "        self.chain = LLMChain(llm=llm, prompt=relSearch_prompt, verbose=False)\n",
    "\n",
    "        subscription_key=\"df01e65a4da8434b841e8a81b34c9d25\"\n",
    "        self.search_url = \"https://api.bing.microsoft.com/v7.0/search\"\n",
    "        self.headers = {\"Ocp-Apim-Subscription-Key\" : subscription_key}\n",
    "\n",
    "    def via_llm(self, query): \n",
    "        relSearches = self.chain.apply_and_parse([{\"query\": query}])[0]\n",
    "        return relSearches\n",
    "\n",
    "    def via_bing(self, query):\n",
    "        query = query+\" Note: The query is related to the blockchain ecosystem.\"\n",
    "        params  = {\"q\": query, \"textDecorations\": True, \"textFormat\": \"HTML\"}\n",
    "        response = requests.get(self.search_url, headers=self.headers, params=params)\n",
    "        response.raise_for_status()\n",
    "        response = response.json()\n",
    "        urls = [x['url'] for x in response['webPages']['value']]\n",
    "        try: relSearches = [r['text'] for r in response['relatedSearches']['value']]\n",
    "        except: relSearches = []\n",
    "        return urls, relSearches"
   ]
  },
  {
   "cell_type": "code",
   "execution_count": 10,
   "metadata": {},
   "outputs": [],
   "source": [
    "with open(\"basic_questions.txt\") as file:\n",
    "    queries = [line.rstrip() for line in file]"
   ]
  },
  {
   "cell_type": "code",
   "execution_count": 11,
   "metadata": {},
   "outputs": [],
   "source": [
    "def find_urls(query, searcher, depth):\n",
    "    urls, relS_bing = searcher.via_bing(query)\n",
    "    urls = [u for u in urls if u not in all_urls]\n",
    "    all_urls.update(set(urls))\n",
    "    relS_llm = searcher.via_llm(query)\n",
    "    print({query: urls})\n",
    "    if depth==0: return {query: urls}\n",
    "    relS = relS_bing + relS_llm\n",
    "    q_urls = []\n",
    "    for q in relS:\n",
    "        if q in all_queries: continue\n",
    "        x = find_urls(q, searcher, depth=depth-1)\n",
    "        all_queries.add(q)\n",
    "        q_urls.append(x)\n",
    "    return q_urls"
   ]
  },
  {
   "cell_type": "code",
   "execution_count": 12,
   "metadata": {},
   "outputs": [
    {
     "name": "stdout",
     "output_type": "stream",
     "text": [
      "{'What is web3?': ['https://hbr.org/2022/05/what-is-web3', 'https://ethereum.org/en/web3/', 'https://www.gemini.com/cryptopedia/what-is-web3-explained-blockchain-and-web3-crypto-projects', 'https://chain.link/education/web3', 'https://byjus.com/current-affairs/web-3-0/', 'https://consensys.net/blog/blockchain-explained/what-is-web3-here-are-some-ways-to-explain-it-to-a-friend/', 'https://crypto-current.co/what-are-web3-ecosystems/', 'https://www.blockchain-council.org/blockchain/blockchain-technology-in-web-3-0/', 'https://www.geeksforgeeks.org/what-is-blockchain-ecosystem/', 'https://101blockchains.com/blockchain-ecosystem/']}\n",
      "{'What is web3.js?': ['https://web3js.org/', 'https://blog.logrocket.com/ethereum-blockchain-development-using-web3-js/', 'https://web3.hashnode.com/what-is-web3js-an-introduction-into-the-web3js-libraries', 'https://www.blockchain-council.org/web-3/what-is-web3-js-and-how-does-it-work/', 'https://moralis.io/web3-and-javascript-what-is-javascript-and-web3-js/', 'https://codedamn.com/news/blockchain/web3-js-complete-tutorial-2022', 'https://moralis.io/web3-js-tutorial-for-blockchain-developers/']}\n",
      "{'What is a web3 wallet?': ['https://moralis.io/what-is-a-web3-wallet-web3-wallets-explained/', 'https://www.makeuseof.com/what-is-web3-wallet/', 'https://learncrypto.com/blog/keep-learning/what-is-web3-wallet-why-you-might-need-one', 'https://web3wallet.tech/', 'https://cyberscrilla.com/what-is-a-web3-wallet-and-why-is-it-important/', 'https://www.alchemy.com/web3-wallets-overview', 'https://101blockchains.com/best-web3-wallets/']}\n",
      "{'What is an Ethereum wallet?': ['https://ethereum.org/en/wallets/', 'https://www.mewtopia.com/what-is-an-ethereum-wallet/', 'https://www.investopedia.com/terms/e/ethereum.asp', 'https://www.geeksforgeeks.org/what-is-ethereum/', 'https://ethereumprice.org/guides/article/what-is-ethereum/', 'https://zebpay.com/in/what-is-ethereum', 'https://learncrypto.com/knowledge-base/basics/what-is-ethereum', 'https://www.upgrad.com/blog/what-is-ethereum-blockchain/', 'https://ethereum.org/en/layer-2/', 'https://ethereum.org/en/developers/docs/blocks/']}\n",
      "{'What is the best Ethereum wallet?': ['https://coinsutra.com/best-etherum-wallets/', 'https://cryptowallet.com/best-ethereum-eth-wallets/', 'https://www.simplilearn.com/best-ethereum-wallets-article', 'https://www.investopedia.com/best-ethereum-wallets-6830692', 'https://ethereumprice.org/wallets/', 'https://www.altcoinbuzz.io/cryptocurrency-news/product-release/what-are-the-best-ethereum-wallet-part-1/', 'https://crypto-economy.com/best-ethereum-wallets/', 'https://smartanswer.in/2021/02/ethereum-blockchain-20-interview.html', 'https://www.techtarget.com/searchcio/feature/Top-9-blockchain-platforms-to-consider']}\n",
      "{'What is the safest Ethereum wallet?': ['https://cryptowalletreviewer.com/the-safest-and-best-wallet-for-ethereum/', 'https://themoneymongers.com/crypto-wallets/best-ethereum-wallet/', 'https://thetopcoins.com/blog/ethereum-hardware-wallet-how-find-safest-one', 'https://blog.tokenomy.com/education-tutorial-eng/what-is-an-ethereum-wallet/', 'https://www.geeksforgeeks.org/what-is-blockchain-wallet/']}\n",
      "{'What is the most secure Ethereum wallet?': ['https://www.adamenfroy.com/best-ethereum-wallet', 'https://ethereum.org/en/security/', 'https://www.btcadv.com/blog/metamask-reviews/', 'https://www.sciencedirect.com/science/article/pii/S2096720923000106']}\n",
      "{'Which is the best Ethereum wallet to use?': ['https://www.coolwallet.io/ethereum-wallet-guide/', 'https://www.blockchain-council.org/ethereum/a-comprehensive-guide-on-ethereum-wallets/', 'https://echotelegraph.com/the-best-ethereum-wallet-to-use-in-2023/']}\n",
      "{'What is the top Ethereum wallet?': ['https://changelly.com/blog/best-ethereum-wallets/', 'https://medium.com/nethermind-eth/ethereum-withdrawals-and-liquid-staking-68f0d50bbb81', 'https://medium.com/geekculture/metamask-clone-develop-your-own-metamask-wallet-20ddeeda207a', 'https://coinmarketcap.com/alexandria/article/ethereum-top-10-biggest-projects']}\n",
      "{'How do Ethereum wallets work?': ['https://www.theengineeringprojects.com/2021/06/ethereum-wallet-definition-working-and-types.html', 'https://www.coindesk.com/learn/how-does-ethereum-work/', 'https://zebpay.com/blog/how-do-ethereum-payments-work', 'https://intellipaat.com/blog/tutorial/blockchain-tutorial/what-is-ethereum-blockchain/', 'https://ethereum.org/en/developers/docs/ethereum-stack/', 'https://insights.daffodilsw.com/blog/what-are-blockchain-wallets-and-how-do-they-work']}\n",
      "{'Which Ethereum wallet is the most reliable?': ['https://cryptoticker.io/en/best-ethereum-wallets-in-2022/', 'https://ethereum.org/en/wallets/find-wallet/', 'https://www.forbes.com/advisor/investing/cryptocurrency/what-is-ethereum-2-merge/']}\n",
      "{'What are the best Ethereum wallets for beginners?': ['https://www.blockchain.com/learning-portal/ether-basics', 'https://101blockchains.com/blockchain-for-beginners/']}\n",
      "{'What is the best online Ethereum wallet?': ['https://www.moneyunder30.com/best-ethereum-wallets']}\n"
     ]
    },
    {
     "name": "stderr",
     "output_type": "stream",
     "text": [
      "Retrying langchain.llms.openai.BaseOpenAI.completion_with_retry.<locals>._completion_with_retry in 4.0 seconds as it raised RateLimitError: Rate limit reached for default-text-davinci-003 in organization org-mrK2kSCEDDLFwshwzA1wjEBX on tokens per min. Limit: 250000 / min. Current: 324680 / min. Contact support@openai.com if you continue to have issues..\n"
     ]
    },
    {
     "name": "stdout",
     "output_type": "stream",
     "text": [
      "{'What is the best desktop Ethereum wallet?': ['https://codeless.co/best-ethereum-wallets/']}\n",
      "{'What is the best mobile Ethereum wallet?': []}\n",
      "{'What is MetaMask wallet for Ethereum?': ['https://decrypt.co/resources/metamask', 'https://101blockchains.com/metamask/', 'https://changelly.com/blog/what-is-metamask/', 'https://www.coinspeaker.com/guides/what-is-metamask-and-how-to-use-it/', 'https://dev.to/metamask/a-guide-to-metamask-ecosystem-leading-ethereum-blockchain-wallet-59k7', 'https://geekflareae.pages.dev/posts/what-is-metamask-and-how-to-use-it-/', 'https://cloudname.com/blog/what-is-metamask/', 'https://thefrisky.com/ethereum-and-metamask/', 'https://wikibinance.com/en/knowledge/metamask.html', 'https://informastre.com/what-is-metamask/']}\n",
      "{'How to use MetaMask wallet for Ethereum?': ['https://www.sitepoint.com/metamask-ethereum-blockchain/', 'https://geekflare.com/beginners-guide-to-metamask/', 'https://frontierprotocols.com/how-to-use-metamask/', 'https://screenrant.com/create-ethereum-crypto-wallet-with-metamask-how/', 'https://thelayer.xyz/how-to-use-metamask-wallet-gateway-to-blockchain-apps/', 'https://www.xencrypto.io/how-to-use-metamask/', 'https://ethereum.stackexchange.com/questions/138104/how-to-verify-metamask-wallet-address-belongs-to-user']}\n",
      "{'What is MetaMask for Ethereum?': ['https://dappradar.com/blog/what-is-metamask', 'https://blockonomi.com/metamask-guide/', 'https://ethereum.stackexchange.com/questions/93261/difference-between-metamask-and-ethereum-provider', 'https://www.coingecko.com/learn/metamask-alternatives']}\n",
      "{'How secure is MetaMask wallet?': ['https://coinguides.org/metamask-security/', 'https://decrypt.co/106848/how-secure-ethereum-metamask-wallet', 'https://www.youtube.com/watch?v=byWul4xOBx0', 'https://chainstack.com/metamask-behind-the-scenes-not-only-a-crypto-wallet/', 'https://metamask.io/security/', 'https://support.metamask.io/hc/en-us/articles/4867408571803-Wallet-Migration-Guide', 'https://metamask-wallet-3.gitbook.io/metamask-wallet']}\n",
      "{'What is the cost of MetaMask wallet?': ['https://metamask.io/', 'https://www.covemarkets.com/what-is-metamask/', 'https://bho.network/what-is-metamask-wallet', 'https://cyberscrilla.com/metamask-wallet-complete-user-guide/']}\n",
      "{'How to create MetaMask wallet?': ['https://decentralizedcreator.com/create-metamask-wallet/', 'https://wiki.polygon.technology/docs/develop/metamask/hello/', 'https://docs.alchemy.com/docs/how-to-create-a-metamask-wallet', 'https://cryptogamingarea.com/en/faq/create-metamask-wallet/', 'https://www.youtube.com/watch?v=_tIUbuMz2dU', 'https://medium.com/geekculture/metamask-clone-create-cryptocurrency-wallet-like-metamask-ea4ace7e02f2', 'https://www.alchemy.com/overviews/how-to-add-sepolia-to-metamask']}\n",
      "{'What is the difference between MetaMask and Ethereum?': ['https://www.coingecko.com/learn/complete-beginners-guide-to-metamask', 'https://www.cryptovantage.com/best-crypto-wallets/metamask-vs-coinbase-wallet/', 'https://www.quora.com/What-is-the-difference-between-Opensea-and-MetaMask', 'https://community.metamask.io/t/ethereum-merge-information-and-faq/22760']}\n",
      "{'What are the advantages of MetaMask wallet?': ['https://money.com/metamask-crypto-wallet-review/', 'https://sdlccorp.com/post/what-is-metamask-and-its-benefits/', 'https://techbuzzireland.com/2023/02/04/what-are-the-benefits-of-metamask-wallet/', 'https://cryptoadventure.com/metamask-wallet-an-easy-to-follow-guide-for-new-users/', 'https://www.aeliusventure.com/what-is-metamask-an-explanation-of-blockchain-wallet/', 'https://coinmarketcap.com/alexandria/article/how-to-connect-metamask-to-almost-any-blockchain']}\n",
      "{'What is the minimum amount of Ether to use MetaMask wallet?': ['https://www.coindesk.com/learn/how-to-set-up-a-metamask-wallet/', 'https://support.metamask.io/hc/en-us/articles/360015290072-How-to-use-My-Ether-Wallet-with-MetaMask-credentials', 'https://support.metamask.io/hc/en-us/articles/360028141672-Direct-deposit-receive-tokens-to-your-MetaMask-wallet', 'https://www.coingecko.com/learn/trust-wallet-vs-metamask', 'https://metaschool.so/articles/metamask-networks-how-to-use-them/', 'https://www.geeksforgeeks.org/how-to-use-metamask-to-deploy-a-smart-contract-in-solidity-blockchain/']}\n",
      "{'How to transfer ETH from MetaMask wallet?': ['https://cryptoadventure.com/how-to-transfer-ethereum-eth-and-erc-20-tokens-to-from-metamask/', 'https://support.metamask.io/hc/en-us/articles/360015488931-How-to-send-tokens-from-your-MetaMask-wallet', 'https://decentralizedcreator.com/transfer-eth-weth-from-metamask-to-ronin-wallet/', 'https://shopnaturenow.com/how-to-transfer-eth-from-metamask/', 'https://shopnaturenow.com/how-to-transfer-eth-on-metamask/', 'https://medium.com/verasity/how-to-transfer-ethereum-to-metamask-wallet-security-67ff0a415c88', 'https://community.metamask.io/t/how-to-transfer-between-eth-main-net-polygon-main-net/22470', 'https://decentralizedcreator.com/transfer-eth-from-wazirx-to-metamask/', 'https://learn.bybit.com/blockchain/add-ethw-to-metamask/', 'https://support.metamask.io/hc/en-us/articles/360057536611-How-to-check-my-wallet-activity-on-the-blockchain-explorer']}\n",
      "{'What to do if MetaMask wallet is not working?': ['https://windowsreport.com/metamask-not-working/', 'https://support.metamask.io/hc/en-us/articles/4406430256539-User-Guide-Troubleshooting', 'https://windowsreport.com/metamask-not-connecting-to-local-host/', 'https://www.yahoo.com/now/metamask-stopped-working-country-223141615.html', 'https://mefmobile.org/metamask-not-showing-tokens-balance/', 'https://support.metamask.io/hc/en-us/articles/4556918516763-How-to-reset-your-wallet', 'https://ox-currencies.com/metamask-swap-not-working/', 'https://support.metamask.io/hc/en-us/articles/12174759849371-How-to-use-multiple-MetaMask-wallets', 'https://ethereum.stackexchange.com/questions/115312/wallet-addethereumchain-is-not-working-in-metamask-android-app']}\n",
      "{'What is an Ethereum paper wallet?': ['https://coincentral.com/ethereum-paper-wallet/', 'https://ethereum.org/en/what-is-ethereum/', 'https://www.forbes.com/advisor/investing/cryptocurrency/what-is-ethereum-ether/', 'https://www.bitdegree.org/crypto/what-is-ethereum', 'https://ethereum.org/en/whitepaper/', 'https://ethereum.stackexchange.com/questions/3475/how-to-query-local-ethereum-blockchain-for-a-specified-transaction']}\n",
      "{'How to create an Ethereum paper wallet? ': ['https://themoneymongers.com/crypto-wallets/ethereum-paper-wallet/', 'https://etherminingbot.com/ethereum-paper-wallets/', 'https://www.bitcoin.com/get-started/how-to-create-an-ethereum-wallet', 'https://www.tradingheroes.com/secure-ethereum-paper-wallet/', 'https://cryptomeaning.com/ethereum-paper-wallets', 'https://www.technoloader.com/blog/how-to-create-an-ethereum-wallet/', 'https://moralis.io/how-to-create-an-eth-wallet-full-guide/', 'https://www.researchgate.net/publication/360683789_blockchain_paper']}\n",
      "{'What is the best Ethereum paper wallet? ': []}\n",
      "{'How to use an Ethereum paper wallet? ': ['https://www.coingecko.com/learn/how-to-use-an-ethereum-wallet', 'https://www.coindesk.com/learn/how-to-use-ethereum/', 'https://www.ri-paths.eu/cryptocurrency/guides/ethereum-wallets-a-guide-on-how-it-works', 'https://medium.com/validitylabs/how-to-interact-with-the-ethereum-blockchain-and-create-a-database-with-python-and-sql-3dcbd579b3c0', 'https://www.blockchain.com/learning-portal/wallet-faq']}\n",
      "{'How to secure an Ethereum paper wallet? ': ['https://www.tokenexus.com/paper-ethereum-wallet/', 'https://www.freecodecamp.org/news/blockchain-apis-how-to-query-on-the-blockchain/']}\n",
      "{'What is the purpose of an Ethereum paper wallet? ': ['https://www.investopedia.com/terms/b/blockchain-wallet.asp', 'https://stormgain.com/blog/what-ethereum-eth', 'https://hackernoon.com/ethereum-the-all-purpose-blockchain-7270f3088a19']}\n",
      "{'What are the benefits of an Ethereum paper wallet? ': ['https://medium.com/plutus/the-benefits-of-the-ethereum-blockchain-f332e62f7659', 'https://medium.com/@tommyhunter1664/benefits-of-ethereum-blockchain-why-use-anything-else-7f28d7c48985', 'https://101blockchains.com/benefits-of-ethereum-decentralized-platform/', 'https://www.quora.com/What-are-the-benefits-of-the-Ethereum-blockchain', 'https://elenar.substack.com/p/blockchain-wallet-and-its-benefits', 'https://www.quora.com/What-is-the-benefit-of-a-blockchain-wallet']}\n",
      "{'How to transfer funds from an Ethereum paper wallet? ': ['https://ethereum.stackexchange.com/questions/24677/transferring-ether-out-of-paper-wallet', 'https://support.blockchain.com/hc/en-us/articles/4417093065876-How-can-I-transfer-funds-between-my-wallet-and-Blockchain-Exchange-', 'https://www.quora.com/How-do-I-transfer-Ethereum-from-a-paper-wallet', 'https://www.freecodecamp.org/news/how-to-transfer-funds-on-the-ethereum-network-using-the-geth-cli-b7eac16aa3a9/', 'https://www.chainbits.com/cryptocurrencies/how-to-transfer-cryptocurrency/', 'https://www.publish0x.com/crypto-4-beginners/how-to-transfer-crypto-from-wallet-to-wallet-xykzgoe']}\n",
      "{'How to back up an Ethereum paper wallet? ': ['https://support.blockchain.com/hc/en-us/articles/208771356-How-do-I-back-up-my-Wallet-', 'https://support.blockchain.com/hc/en-us/articles/209564506-Make-a-Wallet-Backup', 'https://blockgeeks.com/guides/paper-wallet-guide/', 'https://ethereum.org/en/developers/docs/scaling/zk-rollups/', 'https://www.simplilearn.com/tutorials/blockchain-tutorial/blockchain-wallet']}\n",
      "{'What is the difference between an Ethereum paper wallet and a software wallet? ': ['https://www.quora.com/What-is-the-difference-between-a-paper-wallet-and-a-hardware-wallet-Trezor', 'https://support.mycrypto.com/general-knowledge/ethereum-blockchain/difference-between-wallet-types', 'https://www.investopedia.com/articles/investing/031416/bitcoin-vs-ethereum-driven-different-purposes.asp', 'https://ethereum.org/en/developers/docs/nodes-and-clients/', 'https://ethereum.stackexchange.com/questions/26452/what-is-the-difference-between-a-private-key-password-brain-wallet-recovery-p', 'https://bitcoin.stackexchange.com/questions/101816/what-is-the-difference-between-the-two-types-of-blockchain-com-wallet', 'https://screenrant.com/difference-between-ethereum-polygon-what/']}\n",
      "{'Are Ethereum paper wallets safe?': ['https://cryptonews.com/exclusives/the-paper-wallet-debate-are-they-safer-or-riskier-than-other-3413.htm', 'https://www.blockchain-council.org/blockchain/types-of-crypto-wallets-explained/', 'https://ethereum.org/en/developers/docs/smart-contracts/security/', 'https://ethereum.org/en/developers/tutorials/yellow-paper-evm/']}\n"
     ]
    },
    {
     "name": "stderr",
     "output_type": "stream",
     "text": [
      "Retrying langchain.llms.openai.BaseOpenAI.completion_with_retry.<locals>._completion_with_retry in 4.0 seconds as it raised RateLimitError: Rate limit reached for default-text-davinci-003 in organization org-mrK2kSCEDDLFwshwzA1wjEBX on tokens per min. Limit: 250000 / min. Current: 324540 / min. Contact support@openai.com if you continue to have issues..\n",
      "Retrying langchain.llms.openai.BaseOpenAI.completion_with_retry.<locals>._completion_with_retry in 4.0 seconds as it raised RateLimitError: Rate limit reached for default-text-davinci-003 in organization org-mrK2kSCEDDLFwshwzA1wjEBX on tokens per min. Limit: 250000 / min. Current: 405640 / min. Contact support@openai.com if you continue to have issues..\n"
     ]
    },
    {
     "name": "stdout",
     "output_type": "stream",
     "text": [
      "{'What type of wallet should I use for Ethereum? ': ['https://www.dummies.com/article/business-careers-money/personal-finance/cryptocurrency/different-types-of-ethereum-wallets-263674/']}\n",
      "{'Best Ethereum Wallet': ['https://changelly.com/blog/best-ethereum-wallets-2/', 'https://blog.chainalysis.com/reports/cryptocurrency-ecosystem-bitcoin-ethereum-stablecoins/', 'https://coinloan.io/blog/ethereum-blockchain-ecosystem/']}\n",
      "{'What is the safest Ethereum Wallet': ['https://trading-education.com/is-ethereum-safe']}\n",
      "{'Ethereum Hardware Wallet': ['https://www.alibabacloud.com/blog/how-ethereum-bip-32-hardware-digital-wallet-works_597788', 'https://ethereum.org/en/', 'https://ethereum.org/en/developers/docs/data-and-analytics/', 'https://medium.com/blockchannel/tools-and-technologies-in-the-ethereum-ecosystem-e5b7e5060eb9']}\n",
      "{'How to Store Ethereum': ['https://www.geeksforgeeks.org/how-to-store-data-in-blockchain/', 'https://www.geeksforgeeks.org/how-to-store-data-on-ethereum-blockchain/', 'https://ethereum.stackexchange.com/questions/7884/how-can-i-store-data-in-ethereum-blockchain', 'https://www.blockchain-council.org/blockchain/how-to-store-data-on-ethereum-blockchain/', 'https://ethereum.stackexchange.com/questions/106996/storing-and-retrieving-data-from-ethereum-blockchain', 'https://hackernoon.com/getting-deep-into-ethereum-how-data-is-stored-in-ethereum-e3f669d96033', 'https://ethereum.stackexchange.com/questions/57926/is-it-possible-to-retrieve-query-data-stored-in-the-blockchain', 'https://www.geeksforgeeks.org/components-of-ethereum-network/']}\n",
      "{'Ethereum Paper Wallet': ['https://paperwalleth.com/', 'https://papercryptowallet.net/paper-wallet/ethereum/eth/', 'https://www.etsy.com/market/ethereum_paper_wallet']}\n"
     ]
    },
    {
     "name": "stderr",
     "output_type": "stream",
     "text": [
      "Retrying langchain.llms.openai.BaseOpenAI.completion_with_retry.<locals>._completion_with_retry in 4.0 seconds as it raised RateLimitError: Rate limit reached for default-text-davinci-003 in organization org-mrK2kSCEDDLFwshwzA1wjEBX on tokens per min. Limit: 250000 / min. Current: 405760 / min. Contact support@openai.com if you continue to have issues..\n"
     ]
    },
    {
     "name": "stdout",
     "output_type": "stream",
     "text": [
      "{'Ethereum Wallet App': ['https://ethereum.org/en/developers/docs/apis/javascript/', 'https://medium.com/0xsequence/sequence-indexer-query-blockchain-324c30acef0', 'https://www.blockchain-council.org/blockchain/ethereum-defi-ecosystem-a-quick-guide/', 'https://www.analyticsvidhya.com/blog/2023/01/complete-guide-to-web3-0-ethereum-blockchain-using-python/']}\n"
     ]
    },
    {
     "name": "stderr",
     "output_type": "stream",
     "text": [
      "Retrying langchain.llms.openai.BaseOpenAI.completion_with_retry.<locals>._completion_with_retry in 4.0 seconds as it raised RateLimitError: Rate limit reached for default-text-davinci-003 in organization org-mrK2kSCEDDLFwshwzA1wjEBX on tokens per min. Limit: 250000 / min. Current: 324740 / min. Contact support@openai.com if you continue to have issues..\n"
     ]
    },
    {
     "name": "stdout",
     "output_type": "stream",
     "text": [
      "{'How to Choose an Ethereum Wallet': ['https://www.quora.com/How-do-I-choose-an-Ethereum-wallet', 'https://crypto.news/learn/a-complete-guide-to-opening-an-ethereum-wallet/']}\n",
      "{'How to Create an Ethereum Wallet': ['https://ethereum.stackexchange.com/questions/143088/how-to-create-a-wallet-for-eth', 'https://stackoverflow.com/questions/46004291/how-do-i-create-an-ethereum-wallet-in-python', 'https://dev.to/theapis/blockchain-basics-create-wallet-with-one-api-call-517i', 'https://choise.com/news/crypto-wallets/how-to-create-ethereum-wallet', 'https://andronishoneymoon.com/crypto/ethereum-wallet-how-to-create-2.html', 'https://moralis.io/how-to-build-a-polygon-portfolio-tracker/']}\n",
      "{'Ethereum Wallet Reviews': ['https://www.forbes.com/advisor/in/investing/cryptocurrency/what-is-ethereum-ether/', 'https://bitcoinke.io/2020/01/ethereum-blockchain-ecosystem-in-2019/']}\n"
     ]
    },
    {
     "name": "stderr",
     "output_type": "stream",
     "text": [
      "Retrying langchain.llms.openai.BaseOpenAI.completion_with_retry.<locals>._completion_with_retry in 4.0 seconds as it raised RateLimitError: Rate limit reached for default-text-davinci-003 in organization org-mrK2kSCEDDLFwshwzA1wjEBX on tokens per min. Limit: 250000 / min. Current: 324760 / min. Contact support@openai.com if you continue to have issues..\n"
     ]
    },
    {
     "name": "stdout",
     "output_type": "stream",
     "text": [
      "{'Best Ethereum Wallet for Beginners': ['https://bitcoinchaser.com/best-ethereum-wallets/', 'https://www.guru99.com/best-ethereum-wallet.html']}\n"
     ]
    },
    {
     "name": "stderr",
     "output_type": "stream",
     "text": [
      "Retrying langchain.llms.openai.BaseOpenAI.completion_with_retry.<locals>._completion_with_retry in 4.0 seconds as it raised RateLimitError: Rate limit reached for default-text-davinci-003 in organization org-mrK2kSCEDDLFwshwzA1wjEBX on tokens per min. Limit: 250000 / min. Current: 405920 / min. Contact support@openai.com if you continue to have issues..\n",
      "Retrying langchain.llms.openai.BaseOpenAI.completion_with_retry.<locals>._completion_with_retry in 4.0 seconds as it raised RateLimitError: Rate limit reached for default-text-davinci-003 in organization org-mrK2kSCEDDLFwshwzA1wjEBX on tokens per min. Limit: 250000 / min. Current: 405980 / min. Contact support@openai.com if you continue to have issues..\n"
     ]
    },
    {
     "name": "stdout",
     "output_type": "stream",
     "text": [
      "{'How do I create an Ethereum wallet?': ['https://www.tutorialspoint.com/ethereum/ethereum_creating_wallet.htm', 'https://ethereum.org/en/developers/docs/accounts/', 'https://ethereum.org/en/run-a-node/', 'https://merehead.com/blog/how-create-blockchain-network/']}\n"
     ]
    },
    {
     "name": "stderr",
     "output_type": "stream",
     "text": [
      "Retrying langchain.llms.openai.BaseOpenAI.completion_with_retry.<locals>._completion_with_retry in 4.0 seconds as it raised RateLimitError: Rate limit reached for default-text-davinci-003 in organization org-mrK2kSCEDDLFwshwzA1wjEBX on tokens per min. Limit: 250000 / min. Current: 324780 / min. Contact support@openai.com if you continue to have issues..\n"
     ]
    },
    {
     "name": "stdout",
     "output_type": "stream",
     "text": [
      "{'How to set up an Ethereum wallet?': ['https://changelly.com/blog/how-to-set-up-an-ethereum-wallet/', 'https://www.geeksforgeeks.org/how-to-setup-your-own-private-ethereum-network/', 'https://ethereum.org/en/developers/docs/nodes-and-clients/run-a-node/']}\n",
      "{'What is an Ethereum wallet?': []}\n",
      "{'What is the difference between an Ethereum wallet and a Bitcoin wallet?': ['https://blockgeeks.com/guides/difference-between-bitcoin-and-ethereum/', 'https://www.geeksforgeeks.org/difference-between-bitcoin-and-ethereum/', 'https://ethereum.stackexchange.com/questions/700/what-are-the-differences-between-bitcoin-blockchain-and-ethereum-blockchain', 'https://www.brsoftech.com/blog/difference-between-bitcoin-and-ethereum-blockchain/', 'https://www.linkedin.com/pulse/difference-between-bitcoin-ethereum-blockchain-technology-eduok', 'https://www.howtogeek.com/347464/whats-the-difference-between-a-bitcoin-wallet-and-an-exchange/', 'https://bitcoin.stackexchange.com/questions/30828/difference-between-a-bitcoin-wallet-and-the-blockchain']}\n",
      "{'How to fund an Ethereum wallet?': ['https://www.blockchain.com/learning-portal/how-to-get-ether']}\n",
      "{'How to transfer coins from one Ethereum wallet to another?': ['https://www.cryptolicks.com/how-to-transfer-cryptocurrency-from-one-wallet-to-another/', 'https://10clouds.com/blog/defi/how-to-transfer-ethereum-to-other-blockchains/', 'https://ethereum.stackexchange.com/questions/16672/how-to-transfer-current-wallet-to-another', 'https://www.reddit.com/r/ethereum/comments/11e6998/how_to_privately_transfer_coins_from_one_to/', 'https://currency.com/how-to-transfer-crypto-from-an-exchange-to-a-wallet']}\n",
      "{'How to restore an Ethereum wallet?': ['https://cryptoassetrecovery.com/how-to-recover-your-ethereum-presale-wallet/', 'https://www.mewtopia.com/recover-your-old-ethereum-wallet-with-mew/', 'https://adstoob.com/how-to-restore-ethereum-wallet/', 'https://shopnaturenow.com/how-to-restore-ethereum-classic-wallet-from-backup/', 'https://www.youtube.com/watch?v=KWTXZCTA7XA', 'https://www.reddit.com/r/ethereum/comments/kyxyzf/how_to_recover_ethereum_wallet/', 'https://support.bitcoin.com/en/articles/4540526-how-to-restore-the-wallet', 'https://brutebrothers.com/blog/how-to-recover-your-lost-blockchain-wallet/', 'https://support.blockchain.com/hc/en-us/articles/4417082576788-How-do-I-back-up-my-Wallet-or-restore-access-using-a-Secret-Private-key-Recovery-Phrase-']}\n",
      "{'How do I delete an Ethereum wallet?': ['https://ethereum.stackexchange.com/questions/4389/delete-wallet-and-disable-wallet-address', 'https://distinguished.io/blog/delete-blockchain-wallet', 'https://support.blockchain.com/hc/en-us/articles/5159481570076-How-can-I-delete-my-Wallet-account-', 'https://ethereum.stackexchange.com/questions/1897/how-to-delete-or-reset-the-blockchain-in-geth-osx', 'https://ethereum.stackexchange.com/questions/31298/is-it-possible-to-cancel-a-transaction']}\n",
      "{'How to access an Ethereum wallet?': ['https://www.quicknode.com/guides/web3-sdks/how-to-access-ethereum-mempool', 'https://ethereum.org/en/developers/docs/networks/', 'https://ethereum.stackexchange.com/questions/3136/how-does-etherchain-access-and-query-ethereum-blockchain-transaction-data']}\n",
      "{'What is an Ethereum wallet address?': ['https://ethereum.stackexchange.com/questions/94816/what-is-an-ethereum-address', 'https://bitquery.io/blog/investigate-ethereum-address', 'https://coingape.com/glossary/wallet-address/', 'https://shardeum.org/blog/what-is-evm-wallet/']}\n",
      "{'How to generate an Ethereum wallet address?': ['https://www.quicknode.com/guides/web3-sdks/how-to-generate-a-new-ethereum-address-in-javascript', 'https://www.geeksforgeeks.org/how-to-create-an-ethereum-wallet-address-from-a-private-key/', 'https://www.quicknode.com/guides/web3-sdks/how-to-generate-a-new-ethereum-address-in-php', 'https://www.freecodecamp.org/news/how-to-create-an-ethereum-wallet-address-from-a-private-key-ae72b0eee27b/', 'https://www.quicknode.com/guides/web3-sdks/how-to-generate-a-new-ethereum-address-in-python', 'https://medium.com/@eiki1212/how-to-create-a-simple-ethereum-wallet-and-address-1741b6e7d53b', 'https://www.quicknode.com/guides/ethereum-development/wallets/how-to-generate-a-new-ethereum-address-in-javascript/', 'https://www.ethereumaddressgenerator.com/']}\n",
      "{'How to use an Ethereum wallet?': ['https://moralis.io/ethereum-testnet-guide-connect-to-ethereum-testnets/', 'https://ethereum.org/en/developers/docs/programming-languages/dot-net/']}\n",
      "{'What are the best Ethereum wallets?': ['https://insidecrypto.net/the-best-ethereum-wallets/', 'https://www.investopedia.com/what-is-the-ethereum-shanghai-upgrade-7099021']}\n",
      "{'How to safely store Ethereum?': ['https://freewallet.org/blog/store-ether-safely/', 'https://cryptalker.com/store-ethereum/', 'https://cryptosec.info/store-your-ether/', 'https://ethereum.org/en/developers/docs/storage/']}\n"
     ]
    },
    {
     "name": "stderr",
     "output_type": "stream",
     "text": [
      "Retrying langchain.llms.openai.BaseOpenAI.completion_with_retry.<locals>._completion_with_retry in 4.0 seconds as it raised RateLimitError: Rate limit reached for default-text-davinci-003 in organization org-mrK2kSCEDDLFwshwzA1wjEBX on tokens per min. Limit: 250000 / min. Current: 324680 / min. Contact support@openai.com if you continue to have issues..\n",
      "Retrying langchain.llms.openai.BaseOpenAI.completion_with_retry.<locals>._completion_with_retry in 4.0 seconds as it raised RateLimitError: Rate limit reached for default-text-davinci-003 in organization org-mrK2kSCEDDLFwshwzA1wjEBX on tokens per min. Limit: 250000 / min. Current: 405860 / min. Contact support@openai.com if you continue to have issues..\n"
     ]
    },
    {
     "name": "stdout",
     "output_type": "stream",
     "text": [
      "{'What is a MetaMask wallet?': ['https://en.wikipedia.org/wiki/MetaMask', 'https://coinmarketcap.com/alexandria/article/what-is-metamask', 'https://octocrypto.io/knowledge/what-is-a-metamask-wallet/', 'https://stackoverflow.com/questions/66866817/is-there-any-way-to-initiate-a-disconnect-request-to-the-metamask-wallet', 'https://medium.datadriveninvestor.com/what-is-metamask-wallet-f4da4f92be02']}\n",
      "{'What is a hardware Ethereum wallet?': ['https://www.ledger.com/academy/crypto-hardware-wallet', 'https://medium.com/radartech/hardware-wallets-explained-da8bd93ce801']}\n",
      "{'Is an Ethereum wallet secure?': ['https://www.axios.com/2022/07/27/regulatory-risk-ethereum-security-model-proof-of-stake-sec', 'https://techcrunch.com/2023/02/23/coinbases-layer-2-blockchain-may-help-expand-scaling-on-ethereum/']}\n",
      "{'What is the difference between an Ethereum wallet address and an Ethereum public key?': ['https://ethereum.stackexchange.com/questions/33171/ethereum-address-vs-public-key', 'https://www.coding-bootcamps.com/blog/how-address-and-wallet-work-in-ethereum.html', 'https://etherworld.co/2017/11/17/understanding-the-concept-of-private-key-public-key-and-address-in-ethereum-blockchain/', 'https://www.bitpanda.com/academy/en/lessons/what-are-public-keys-private-keys-and-wallet-addresses/', 'https://bitcoin.stackexchange.com/questions/89252/public-key-vs-wallet-address-what-is-the-difference']}\n",
      "{'What is an Ethereum hardware wallet?': []}\n",
      "{'What is the best Ethereum hardware wallet?': ['https://www.blockchain-council.org/cryptocurrency/best-hardware-wallets/']}\n",
      "{'What is the safest Ethereum hardware wallet?': []}\n",
      "{'Where to buy Ethereum hardware wallet?': ['https://ethereum.org/en/get-eth/', 'https://www.nerdwallet.com/article/investing/best-ethereum-eth-wallet']}\n",
      "{'What is a Ledger Nano X Ethereum hardware wallet?': ['https://www.ledger.com/ethereum-wallet', 'https://shop.ledger.com/products/ledger-nano-x', 'https://www.techradar.com/reviews/ledger-nano-x-cryptocurrency-wallet-review', 'https://www.ledger.com/coin/wallet/ethereum', 'https://privacypros.io/ledger/nano-x-review/', 'https://defisunday.com/what-is-a-ledger-nano-hardware-wallet-and-how-does-it-work/', 'https://www.investopedia.com/terms/l/ledger-wallet.asp', 'https://www.ledger.com/academy/what-is-a-crypto-wallet']}\n",
      "{'How to set up ETH hardware wallet?': ['https://www.zdnet.com/finance/blockchain/how-to-set-up-a-metamask-crypto-wallet-your-gateway-to-ethereum-crypto-coach/', 'https://www.sofi.com/learn/content/setting-up-ethereum-wallet/', 'https://arctouch.com/blog/how-to-set-up-ethereum-blockchain', 'https://www.freecodecamp.org/news/full-stack-ethereum-development/']}\n",
      "{'Which Ethereum hardware wallet is the most secure?': ['https://www.includehelp.com/mcq/blockchain-multiple-choice-questions-mcqs.aspx']}\n",
      "{'How to backup Ethereum hardware wallet?': ['https://ethereum.stackexchange.com/questions/108/how-do-i-backup-my-ether-accounts', 'https://geth.ethereum.org/docs/fundamentals/backup-restore']}\n",
      "{'How does an Ethereum hardware wallet work?': ['https://crypto.com/university/what-is-a-hardware-wallet']}\n",
      "{'How to store Ethereum on a hardware wallet?': ['https://techblog.dac.digital/ethereum-signatures-and-transactions-using-a-hardware-wallet-10a88f344caf']}\n",
      "{'What is the difference between a hot and cold Ethereum wallet?': ['https://coinmarketcap.com/alexandria/article/hot-wallets-vs-cold-wallets-whats-the-difference', 'https://www.geeksforgeeks.org/hot-wallets-vs-cold-wallets-in-blockchain/', 'https://www.gemini.com/cryptopedia/crypto-wallets-hot-cold', 'https://www.bitdegree.org/crypto/cold-wallet', 'https://discover.luno.com/what-is-the-difference-between-a-hot-and-cold-wallet/', 'https://101blockchains.com/hot-wallet-vs-cold-wallet/', 'https://www.blockchain-council.org/cryptocurrency/hot-wallet-vs-cold-wallet/']}\n",
      "{'What is an Ethereum wallet mnemonic?': ['https://wolovim.medium.com/ethereum-201-mnemonics-bb01a9108c38', 'https://ethereum.stackexchange.com/questions/57231/how-to-use-mnemonic-to-recovery-my-ethereum-wallet', 'https://medium.com/blockchain/understanding-mnemonics-and-the-blockchain-wallet-a3b288fab2f8', 'https://101blockchains.com/ethereum-interview-questions/']}\n",
      "{'What is an Ethereum mnemonic phrase?': ['https://academy.solflare.com/what-is-a-mnemonic-phrase/', 'https://cryptowallet.com/glossary/mnemonic-phrases/', 'https://ethereum.org/en/glossary/']}\n",
      "{'How to create an Ethereum wallet mnemonic?': ['https://betterprogramming.pub/programmatically-create-an-ethereum-wallet-with-python-and-infura-c378dda3e19c', 'https://moralis.io/how-to-create-an-ethereum-nft-full-guide/', 'https://mmdrza.com/mnemonic-ethereum-wallet-cracker-passphrase/']}\n",
      "{'What is an Ethereum wallet seed?': ['https://www.coindesk.com/learn/what-is-ethereum/']}\n",
      "{'How do I use an Ethereum mnemonic?': ['https://stackoverflow.com/questions/68669178/how-to-generate-a-private-key-for-ethereum-from-the-mnemonic', 'https://bitquery.io/blog/blockchain-graphql-query']}\n",
      "{'What is an Ethereum mnemonic backup?': []}\n",
      "{'How to store an Ethereum wallet mnemonic?': ['https://dev.to/yakult/02-understanding-blockchain-with-ethersjs-4-tasks-of-wallet-nn5', 'https://guarda.com/academy/tutorials/mnemonic-wallet-phrases-what-are-they-for/', 'https://mmdrza.com/ethereum-wallet-hack-with-mnemonic-crack-python/']}\n",
      "{'What is the difference between an Ethereum mnemonic and seed phrase?': ['https://vault12.com/securemycrypto/crypto-security-basics/mnemonic-seed-recovery-phrase/', 'https://medium.com/coinmonks/bitcoin-and-ethereum-seed-phrases-explained-for-non-technical-people-a9f2a49c388d', 'https://medium.com/the-capital/bitcoin-and-ethereum-seed-phrases-explained-for-non-technical-people-f65deba13a4d', 'https://cryptoglobally.com/seed-phrase-generator-wallet/', 'https://getcoinplate.com/bip39-seed-phrase-mnemonics-generator-offline-online-tool/']}\n",
      "{'What is an Ethereum wallet passphrase?': []}\n",
      "{'What are the security risks of an Ethereum wallet mnemonic?': ['https://ethereum.stackexchange.com/questions/2108/what-are-the-risks-associated-with-using-ethereum', 'https://coinmarketcap.com/alexandria/article/morgan-stanley-reveals-biggest-risks-facing-ethereum', 'https://igniteoutsourcing.com/blockchain/blockchain-security-vulnerabilities-risks/', 'https://101blockchains.com/blockchain-risks/', 'https://mitsloan.mit.edu/ideas-made-to-matter/risks-and-unintended-consequences-blockchain', 'https://www2.deloitte.com/us/en/pages/risk/articles/blockchain-security-risks.html']}\n",
      "{'How to use an Ethereum wallet mnemonic?': ['https://ethereum.stackexchange.com/questions/137619/how-to-get-wallet-public-and-private-key-by-passing-mnemonic-and-password-in-nod', 'https://stackoverflow.com/questions/57307463/how-to-create-bitcoin-wallet-from-mnemonics-using-bitcoinj-walletappkit-in-and', 'https://stackoverflow.com/questions/72781609/how-to-restore-wallets-using-mnemonic-phrases-in-ethersjs-with-compatibility-to', 'https://academy.binance.com/en/articles/what-is-etherscan-and-how-to-use-it']}\n",
      "{'How do I restore my Ethereum wallet?': ['https://yvpmzuoosspace.quora.com/How-to-recover-an-Ethereum-wallet', 'https://ethereum.stackexchange.com/questions/97/how-can-i-recover-or-reset-a-lost-wallet-password', 'https://www.quora.com/How-do-I-recover-my-Ethereum-private-key', 'https://ethereum.org/en/community/support/']}\n",
      "{'How do I recover my Ethereum wallet?': ['https://academy.binance.com/en/articles/how-to-recover-crypto-transferred-to-the-wrong-network-on-binance', 'https://ethereum.stackexchange.com/questions/10529/how-can-i-recover-ethereum-account', 'https://news.bitcoin.com/how-to-recover-a-lost-blockchain-wallet-password-keychainx-expert-explains/', 'https://bitcoin.stackexchange.com/questions/54139/i-have-lost-my-blockchain-password-and-recovery-phrase-how-can-i-recover-my-wal']}\n",
      "{'How do I recover an Ethereum private key?': ['https://ethereum.stackexchange.com/questions/91910/recovering-private-key-from-keystore-file', 'https://ethereum.stackexchange.com/questions/97229/where-exactly-is-ethereum-private-key', 'https://ethereum.stackexchange.com/questions/79694/ethereum-private-key-recovered-from-chrome', 'https://support.blockchain.com/hc/en-us/articles/4417071649044-How-do-I-export-the-private-key-for-my-Ethereum-address-', 'https://ethereum.stackexchange.com/questions/44219/how-to-extract-private-keys-from-ethereum-wallet', 'https://www.freecodecamp.org/news/solutions-for-private-key-management-in-decentralized-apps-d20b25c7474a/', 'https://ethereum.stackexchange.com/questions/125890/how-to-recover-the-public-key-from-r-s-and-v-without-the-private-key', 'https://www.publish0x.com/simple-solutions-to-complex-problems/a-simple-way-to-generate-easy-recoverable-ethereum-privatepu-xjondwp']}\n",
      "{'How do I reset my Ethereum wallet? ': ['https://support.blockchain.com/hc/en-us/articles/4673391983516-How-do-I-reset-a-lost-password-', 'https://help.myetherwallet.com/en/articles/5377713-checking-your-balance-on-the-ethereum-blockchain']}\n",
      "{'How do I access my Ethereum wallet? ': ['https://www.coindesk.com/learn/how-to-check-your-ethereum-transaction/', 'https://blog.chronologic.network/accessing-your-ether-wallets-private-keys-on-blockchain-info-41692183202e']}\n"
     ]
    },
    {
     "name": "stderr",
     "output_type": "stream",
     "text": [
      "Retrying langchain.llms.openai.BaseOpenAI.completion_with_retry.<locals>._completion_with_retry in 4.0 seconds as it raised RateLimitError: Rate limit reached for default-text-davinci-003 in organization org-mrK2kSCEDDLFwshwzA1wjEBX on tokens per min. Limit: 250000 / min. Current: 324500 / min. Contact support@openai.com if you continue to have issues..\n",
      "Retrying langchain.llms.openai.BaseOpenAI.completion_with_retry.<locals>._completion_with_retry in 4.0 seconds as it raised RateLimitError: Rate limit reached for default-text-davinci-003 in organization org-mrK2kSCEDDLFwshwzA1wjEBX on tokens per min. Limit: 250000 / min. Current: 405660 / min. Contact support@openai.com if you continue to have issues..\n"
     ]
    },
    {
     "name": "stdout",
     "output_type": "stream",
     "text": [
      "{'What is a secure Ethereum wallet? ': ['https://www.sfox.com/blog/how-secure-is-ethereum/', 'https://www.quora.com/How-secure-is-Ethereum']}\n",
      "{'What is an Ethereum hardware wallet? ': []}\n"
     ]
    },
    {
     "name": "stderr",
     "output_type": "stream",
     "text": [
      "Retrying langchain.llms.openai.BaseOpenAI.completion_with_retry.<locals>._completion_with_retry in 4.0 seconds as it raised RateLimitError: Rate limit reached for default-text-davinci-003 in organization org-mrK2kSCEDDLFwshwzA1wjEBX on tokens per min. Limit: 250000 / min. Current: 405780 / min. Contact support@openai.com if you continue to have issues..\n"
     ]
    },
    {
     "name": "stdout",
     "output_type": "stream",
     "text": [
      "{'How do I restore my Ethereum address?': ['https://www.youtube.com/watch?v=c7cdIDyX4fs', 'https://coinlyo.com/how-to-recover-ethereum-sent-to-wrong-address/', 'https://ethereum.org/en/developers/docs/networking-layer/network-addresses/', 'https://info.etherscan.com/what-is-an-ethereum-address/', 'https://ethereum.org/ig/developers/tutorials/the-graph-fixing-web3-data-querying/']}\n",
      "{'How do I install an Ethereum wallet?': ['https://www.quicknode.com/guides/web3-sdks/how-to-connect-to-ethereum-network-with-web3js']}\n",
      "{'How do I back up my Ethereum wallet?': ['https://support.token.im/hc/en-us/articles/360035109014-How-to-backup-the-mnemonic-of-imToken-', 'https://ethereum.org/en/developers/docs/apis/backend/']}\n",
      "{'How do I use a web3 wallet?': ['https://dev.to/coffeecraftcode/understanding-and-using-a-web3-wallet-17mg', 'https://blog.logrocket.com/web3-py-tutorial-guide-ethereum-blockchain-development-with-python/', 'https://stackoverflow.com/questions/73966364/how-to-get-all-balances-for-some-account-using-web3-js-and-node-js', 'https://www.cryptopolitan.com/web3-wallets-why-you-might-need-one/']}\n"
     ]
    },
    {
     "name": "stderr",
     "output_type": "stream",
     "text": [
      "Retrying langchain.llms.openai.BaseOpenAI.completion_with_retry.<locals>._completion_with_retry in 4.0 seconds as it raised RateLimitError: Rate limit reached for default-text-davinci-003 in organization org-mrK2kSCEDDLFwshwzA1wjEBX on tokens per min. Limit: 250000 / min. Current: 405800 / min. Contact support@openai.com if you continue to have issues..\n"
     ]
    },
    {
     "name": "stdout",
     "output_type": "stream",
     "text": [
      "{'What is a web3 wallet?': ['https://ethereum.stackexchange.com/questions/118693/what-is-web3s-wallet-definition-and-usage']}\n",
      "{'What is a web3 provider?': ['https://www.cloudflare.com/learning/insights-how-blockchain-web3/', 'https://en.wikipedia.org/wiki/Web3', 'https://ethereum-blockchain-developer.com/004-blockchain-networks/04-web3-provider/', 'https://w3.asia/web3-ecosystem-what-is-it/']}\n",
      "{'How do I create a web3 wallet?': ['https://www.icoclone.com/blog/how-to-create-a-web3-wallet/', 'https://refactorfirst.com/create-cryptocurrency-wallet-with-web3', 'https://moralis.io/web3-wallet-tracker-how-to-create-a-firebase-web3-wallet-tracker/', 'https://medium.com/@davidmirandagrinstein/how-to-create-a-wallet-with-web3-and-javascript-f29dc2fb2a3d', 'https://academy.moralis.io/blockchain-guides/how-to-build-a-web3-website', 'https://moralis.io/web3-e-commerce-create-a-web3-e-commerce-platform-in-5-steps/', 'https://www.dappuniversity.com/articles/web3-js-intro']}\n",
      "{'What is the best web3 wallet?': ['https://icy.tools/learn/best-web3-wallets', 'https://beincrypto.com/learn/web3-wallet/', 'https://clarusway.com/what-is-a-web3-wallet/', 'https://crypto.com/university/how-ai-shapes-web3/']}\n",
      "{'What is the web3 wallet address?': ['https://www.analyticsvidhya.com/blog/2022/09/guide-to-phantom-a-web3-wallet/']}\n",
      "{'What is web3.js?': []}\n",
      "{'What is a web3 compatible wallet?': []}\n"
     ]
    },
    {
     "name": "stderr",
     "output_type": "stream",
     "text": [
      "Retrying langchain.llms.openai.BaseOpenAI.completion_with_retry.<locals>._completion_with_retry in 4.0 seconds as it raised RateLimitError: Rate limit reached for default-text-davinci-003 in organization org-mrK2kSCEDDLFwshwzA1wjEBX on tokens per min. Limit: 250000 / min. Current: 324640 / min. Contact support@openai.com if you continue to have issues..\n"
     ]
    },
    {
     "name": "stdout",
     "output_type": "stream",
     "text": [
      "{'What is a web3 wallet solution?': []}\n",
      "{'What is a mnemonic phrase for a web3 wallet?': ['https://kauri.io/collections/Web3j%20Cheat%20Sheet%20(Java%20Ethereum)/creating-a-web3j-wallet-from-a-mnemonic-code-(see/', 'https://stackoverflow.com/questions/68050645/how-to-create-a-web3py-account-using-mnemonic-phrase', 'https://support.metamask.io/hc/en-us/articles/360060826432-What-is-a-Secret-Recovery-Phrase-and-how-to-keep-your-crypto-wallet-secure']}\n",
      "{'How do I use a web3 wallet?': []}\n",
      "{'What features does a web3 wallet have?': ['https://www.exodus.com/web3-wallet/', 'https://www.icoclone.com/blog/how-to-create-web3-wallet/']}\n",
      "{'How to create a web3 wallet?': ['https://web3wp.com/blog/how-to-setup-blockchain-digital-wallet/']}\n",
      "{'How to create a blockchain wallet? ': ['https://market247.io/create-a-blockchain-wallet', 'https://academy.moralis.io/blog/what-is-a-blockchain-wallet-the-complete-guide', 'https://www.upgrad.com/blog/blockchain-wallet-development/', 'https://builtin.com/blockchain/create-your-own-blockchain', 'https://www.blockchain.com/faq', 'https://www.blockchain-council.org/blockchain/a-comprehensive-guide-on-blockchain-wallet/', 'https://101blockchains.com/create-a-blockchain/']}\n",
      "{'What is a web3 wallet? ': []}\n",
      "{'How to generate a blockchain wallet address? ': ['https://docs.tatum.io/guides/blockchain/how-to-create-a-blockchain-wallet', 'https://www.wallstreetmojo.com/blockchain-wallet/', 'https://freewallet.org/blog/blockchain-addresses-101/', 'https://tradingneed.com/add-money-blockchain-wallet/']}\n",
      "{'What is the difference between a web3 wallet and a normal wallet? ': ['https://www.makeuseof.com/difference-between-web3-blockchain-cryptocurrency/', 'https://medium.com/blockchain-new-normal/difference-between-web3-blockchain-and-cryptocurrency-13204807e090', 'https://www.forbes.com/sites/bernardmarr/2022/02/22/the-important-difference-between-web3-and-the-metaverse/', 'https://difference.guru/difference-between-blockchain-and-web3/', 'https://www.quora.com/What-is-the-difference-between-Web3-and-blockchain']}\n",
      "{'How to send cryptocurrency using a web3 wallet? ': ['https://www.coinbase.com/cloud/discover/solutions/send-erc20-with-web3-library', 'https://consensys.net/blog/developers/how-to-send-money-using-python-a-web3-py-tutorial/', 'https://hbr.org/2022/05/web3-will-run-on-cryptocurrency', 'https://betterprogramming.pub/how-to-send-ethereum-transactions-using-web3-d05e0c95f820', 'https://3commas.io/academy/articles/how-to-use-crypto-wallet']}\n",
      "{'What is a crypto wallet? ': ['https://www.businessinsider.com/personal-finance/crypto-wallet', 'https://crypto.com/university/crypto-wallets', 'https://www.coinbase.com/learn/crypto-basics/what-is-a-crypto-wallet', 'https://www.bitcoin.com/get-started/what-is-a-crypto-wallet', 'https://en.wikipedia.org/wiki/Cryptocurrency_wallet', 'https://kriptomat.io/blockchain/what-is-a-blockchain-wallet/', 'https://learncrypto.com/blog/keep-learning/mapping-the-crypto-ecosystem', 'https://www.cnbctv18.com/cryptocurrency/explained--what-is-a-blockchain-ecosystem-12587582.htm']}\n",
      "{'What are the different types of wallets? ': ['https://www.getsecureworld.com/blog/what-are-the-different-types-of-blockchain-wallets/', 'https://www.minds.com/JungleOnion/blog/types-of-blockchain-wallets-which-one-to-use-945075492407095296', 'https://101blockchains.com/types-of-crypto-wallets/', 'https://paxful.com/university/types-of-cryptocurrency-wallets/', 'https://www.cryptocurrencyguide.org/7-types-of-cryptocurrency-wallets/', 'https://www.europeanbusinessreview.com/what-are-the-different-types-of-cryptocurrency-wallets/', 'https://managementstudyguide.com/cryptocurrency-wallets.htm']}\n",
      "{'What is a hardware wallet? ': ['https://www.howtogeek.com/797484/what-is-a-hardware-wallet-for-crypto/', 'https://zebpay.com/blog/what-is-a-hardware-wallet', 'https://www.bsc.news/post/cryptonomics-hardware-wallets-explained']}\n",
      "{'Can I use a web3 wallet for multiple cryptocurrencies?': ['https://coinsutra.com/best-multi-cryptocurrency-wallets/', 'https://coinfunda.com/best-multi-crypto-wallets/', 'https://cryptonews.net/editorial/technology/web-3-0-browsers-with-blockchain-and-cryptocurrencies/']}\n",
      "{'How to secure my web3 wallet?': ['https://hackernoon.com/web3-security-tips-to-protect-yourself-and-your-crypto-wallet-from-hackers', 'https://www.cloudflare.com/learning/insights-web3-security/', 'https://www.quicknode.com/guides/web3-fundamentals-security/security/an-introduction-to-crypto-wallets-and-how-to-keep-them-secure/', 'https://cyvatar.ai/cybersecurity-web3-challenges/']}\n",
      "{'What are the features of a web3 wallet?': ['https://www.bitbond.com/resources/web3-wallets-your-go-to-guide/']}\n",
      "{'What is web3 technology?': ['https://www.forbes.com/sites/bernardmarr/2022/01/24/what-is-web3-all-about-an-easy-explanation-with-examples/']}\n",
      "{'What are the benefits of web3 wallets?': ['https://www.forbes.com/sites/briansolis/2022/04/04/building-on-the-promise-of-web3-to-deliver-a-future-of-utility-value-and-empowerment-that-benefits-everyone/']}\n",
      "{'What cryptocurrencies are supported by web3 wallets?': ['https://www.coindesk.com/learn/what-are-web3-cryptos/', 'https://minery.io/blog/top-web3-cryptocurrencies/', 'https://coinmarketcap.com/view/web3/']}\n",
      "{'Why should I use a web3 wallet?': ['https://www.linkedin.com/pulse/web3-wallet-what-why-should-you-use-one-mehedi-hasan', 'https://medium.com/api3/why-web3-what-is-it-good-for-6ed1c4036220', 'https://www.realvision.com/blog/what-is-web3']}\n",
      "{'What makes web3 wallets secure?': ['https://tearsheet.co/blockchain-crypto/what-makes-a-good-web3-wallet/']}\n",
      "{'How does a web3 wallet work?': ['https://www.businessinsider.com/personal-finance/what-is-web3', 'https://www.pcmag.com/how-to/what-is-web3-and-how-will-it-work', 'https://moralis.io/how-does-web3-work-web3-explained/']}\n",
      "{'What is Metamask and how does it work?': ['https://academy.youngplatform.com/en/blockchain/what-is-metamask-how-does-it-work-beginners-guide/', 'https://academy.moralis.io/blog/the-beginners-guide-to-metamask-what-is-metamask', 'https://coinrivet.com/guides/defi/what-is-and-how-does-metamask-work/', 'https://www.oxbtc.com/news/articles/what-is-metamask-and-how-does-it-work', 'https://dailycoin.com/a-beginners-guide-to-metamask-what-is-it-and-how-does-it-work/']}\n",
      "{'Are web3 wallets safe to use?': ['https://medium.com/immunefi/security-best-practices-of-web3-wallets-f167eadd9037', 'https://academy.shrimpy.io/post/top-10-best-web3-wallets-in-2022']}\n",
      "{'What are some popular web3 wallets?': ['https://www.adamenfroy.com/web3-developer-platforms']}\n",
      "{'What are the best web3 wallets? ': ['https://www.investorrepublic.com/best-web3-wallets/', 'https://www.mckinsey.com/industries/financial-services/our-insights/web3-beyond-the-hype']}\n",
      "{'What is web3 wallet? ': ['https://blockbuild.africa/what-is-web3-wallet/']}\n",
      "{'How to use a web3 wallet? ': []}\n",
      "{'What is a web3 wallet address? ': []}\n",
      "{'What is the safest web3 wallet? ': []}\n",
      "{'How to transfer money from a web3 wallet? ': ['https://ethereum.stackexchange.com/questions/32959/how-to-use-web3-to-send-money-from-wallet-a-to-wallet-b']}\n",
      "{'What is the difference between web2 and web3 wallets? ': ['https://ethereum.org/en/developers/docs/web2-vs-web3/', 'https://www.wix.com/blog/2022/08/web2-vs-web3/', 'https://www.linkedin.com/pulse/web2-vs-web3-what-difference-cypherockwallet', 'https://www.spiceworks.com/tech/tech-general/articles/web-2-vs-web-3/', 'https://101blockchains.com/web-2-0-and-web-3-0/', 'https://academy.binance.com/en/articles/what-s-the-relationship-between-blockchain-and-web3', 'https://www.blockchain-council.org/blockchain/difference-disclosed-web-2-0-vs-web-3-0/', 'https://www.gemini.com/cryptopedia/defi-and-web3-explained-defi-crypto-options-web3-crypto']}\n",
      "{'What is the best web3 wallet for Ethereum?': []}\n",
      "{'How to store ERCtokens in a web3 wallet?': ['https://stackoverflow.com/questions/68085393/how-to-get-all-tokens-by-wallet-address', 'https://medium.com/pixelpoint/track-blockchain-transactions-like-a-boss-with-web3-js-c149045ca9bf', 'https://medium.com/swlh/guide-to-storing-erc-20-tokens-on-popular-wallets-be193e9279dc']}\n",
      "{'What is the difference between web3 and other wallets?': ['https://www.linkedin.com/pulse/difference-between-web3-crypto-blockchain-why-matters-sdna-tech', 'https://blockchain-comparison.com/blockchain-knowledge-base/web-3/', 'https://www.leewayhertz.com/web3-vs-web3-0/']}\n",
      "{'What are the advantages of web3 wallet?': ['https://101blockchains.com/top-web3-advantages/', 'https://blog.bingx.com/insights/bingx-insights/overview-of-web3-wallets-what-they-are-pros-and-cons-and-examples/', 'https://www.bitcoininsider.org/article/187830/what-web3-wallet-why-do-you-need-web3-wallet', 'https://www.geeksforgeeks.org/advantages-and-disadvantages-of-web-3-0/']}\n",
      "{'What is an Ethereum Wallet?': ['https://www.socialyy.com/crypto/what-is-an-ethereum-wallet/']}\n",
      "{'How do I use web3?': ['https://www.phuture.finance/learn/web3-how-to-use-it', 'https://www.figment.io/resources/web-3-for-beginners-an-introduction-to-blockchain']}\n"
     ]
    },
    {
     "name": "stderr",
     "output_type": "stream",
     "text": [
      "Retrying langchain.llms.openai.BaseOpenAI.completion_with_retry.<locals>._completion_with_retry in 4.0 seconds as it raised RateLimitError: Rate limit reached for default-text-davinci-003 in organization org-mrK2kSCEDDLFwshwzA1wjEBX on tokens per min. Limit: 250000 / min. Current: 324640 / min. Contact support@openai.com if you continue to have issues..\n"
     ]
    },
    {
     "name": "stdout",
     "output_type": "stream",
     "text": [
      "{'What is MetaMask wallet?': ['https://blockchainjournal.news/metamask/']}\n",
      "{'What is the difference between web3 and Ethereum?': ['https://ethereum.stackexchange.com/questions/68293/difference-between-window-ethereum-and-window-web3', 'https://stackoverflow.com/questions/50083957/what-is-the-difference-between-web3-eth-accounts-create-and-web3-eth-personal-ne', 'https://101blockchains.com/flux-web3/', 'https://www.alchemy.com/overviews/goerli-vs-sepolia', 'https://ethereum.org/ml/developers/tutorials/sending-transactions-using-web3-and-alchemy/']}\n"
     ]
    },
    {
     "name": "stderr",
     "output_type": "stream",
     "text": [
      "Retrying langchain.llms.openai.BaseOpenAI.completion_with_retry.<locals>._completion_with_retry in 4.0 seconds as it raised RateLimitError: Rate limit reached for default-text-davinci-003 in organization org-mrK2kSCEDDLFwshwzA1wjEBX on tokens per min. Limit: 250000 / min. Current: 405840 / min. Contact support@openai.com if you continue to have issues..\n"
     ]
    },
    {
     "name": "stdout",
     "output_type": "stream",
     "text": [
      "{'How does web3 work?': ['https://www.thedrum.com/opinion/2022/02/09/what-web3-and-why-does-it-matter', 'https://101blockchains.com/blockchain-in-web-3-0/']}\n",
      "{'Does web3 cost money?': ['https://dev.to/sokaribosenibo/understand-and-make-money-from-web-30-today-802']}\n"
     ]
    },
    {
     "name": "stderr",
     "output_type": "stream",
     "text": [
      "Retrying langchain.llms.openai.BaseOpenAI.completion_with_retry.<locals>._completion_with_retry in 4.0 seconds as it raised RateLimitError: Rate limit reached for default-text-davinci-003 in organization org-mrK2kSCEDDLFwshwzA1wjEBX on tokens per min. Limit: 250000 / min. Current: 405740 / min. Contact support@openai.com if you continue to have issues..\n"
     ]
    },
    {
     "name": "stdout",
     "output_type": "stream",
     "text": [
      "{'What is the difference between a web3 wallet and a cryptocurrency wallet?': ['https://www.linkedin.com/pulse/difference-between-blockchain-web3-cryptocurrency-metexlabzofficial', 'https://www.techtarget.com/searchsecurity/definition/crypto-wallet-cryptocurrency-wallet', 'https://www.gadgets360.com/cryptocurrency/features/cryptocurrency-exchange-vs-wallet-what-is-the-difference-2505117', 'http://www.differencebetween.net/business/investment-business/difference-between-cryptocurrency-wallet-vs-exchange/']}\n",
      "{'What are the features of web3?': ['https://vitalflux.com/what-is-web3-0-features-design-skills-nfts/', 'https://www.blockchain-council.org/web-3/understanding-the-interrelationship-between-web3-and-blockchain/']}\n",
      "{'Is web3 safe?': ['https://101blockchains.com/web3-risks/', 'https://dev.to/cibrax/the-web3-ecosystem-for-ethereum-186k', 'https://www.crowdfundinsider.com/2023/02/202044-web3-sharering-a-digital-identity-blockchain-ecosystem-announces-initial-release-of-vault-query-language/', 'https://www.computerworld.com/article/3645691/you-can-safely-ignore-web3.html', 'https://www.binance.com/en-IN/blog/ecosystem/binance-labs-empowering-web3-and-blockchain-technologies-421499824684903923']}\n",
      "{'How to store cryptocurrencies in a web3 wallet?': ['https://blockchainsimplified.com/blog/blockchain-wallet-cryptocurrency-wallet/']}\n",
      "{'What is the best web3 wallet for cryptocurrency storage? ': ['https://www.forbes.com/advisor/investing/cryptocurrency/best-crypto-wallets/', 'https://insidebitcoins.com/buy-cryptocurrency/best-web3-crypto-projects']}\n",
      "{'What is the difference between web3 wallet and traditional wallet? ': ['https://web3.hashnode.com/what-is-a-web3-wallet']}\n",
      "{'How secure is my cryptocurrency in a web3 wallet? ': ['https://digitaltemplatemarket.com/web3-crypto-wallet-development/', 'https://www.blockchain-council.org/cryptocurrency/complete-guide-on-cryptocurrency-security/', 'https://www.cysecurity.news/2023/02/web3-blockchain-and-cryptocurrency.html']}\n",
      "{'What are the fees involved in using a web3 wallet? ': ['https://unremot.com/blog/best-web3-wallet/', 'https://support.blockchain.com/hc/en-us/articles/360000939903-Transaction-fees', 'https://cointelegraph.com/news/how-high-transaction-fees-are-being-tackled-in-the-blockchain-ecosystem']}\n",
      "{'Can I access my web3 wallet on multiple devices? ': ['https://medium.com/blockchain/introducing-walletconnect-access-web3-from-your-blockchain-com-wallet-da02e49ccea9', 'https://www.antiersolutions.com/web3-wallet-development/', 'https://medium.com/geekculture/web3-and-blockchain-explanation-the-access-layer-decentralized-exchanges-and-geopolitical-ed688d120919']}\n",
      "{'Is there a mobile version of web3 wallet? ': ['https://www.nytimes.com/interactive/2022/03/18/technology/web3-definition-internet.html', 'https://www.cnet.com/personal-finance/crypto/what-is-web3-the-confusing-term-explained/']}\n",
      "{'Are web3 wallets insured against theft or losses? ': ['https://thoughtex.substack.com/p/web3-and-insurance', 'https://www.oliverwyman.com/our-expertise/insights/2022/jul/oliver-wyman-will-web3-reinvent-insurance.html', 'https://www.cbsnews.com/news/web3-blockchain-crypto-nft-metaverse-explainer/']}\n",
      "{'How do I transfer cryptocurrencies from web3 wallet? ': ['https://news.yahoo.com/safely-transfer-crypto-cold-storage-wallet-143330083.html']}\n",
      "{'Are web3 wallets compatible with other cryptocurrency wallets? ': []}\n",
      "{'What types of cryptocurrencies can be stored in a web3 wallet?': ['https://corporatefinanceinstitute.com/resources/cryptocurrency/types-of-cryptocurrency/']}\n",
      "{'Are web3 wallets safe?': []}\n",
      "{'How to create a web3 wallet? ': ['https://dev.to/yakult/web3-ui-working-note-01-install-example-4naj']}\n",
      "{'What is the difference between web3 wallet and traditional wallet?': []}\n",
      "{'What are the benefits of a web3 wallet? ': []}\n",
      "{'How to manage web3 wallet security? ': ['https://portto.com/blocto-crypto-blog/ecosystem/how-to-integrate-with-a-web3-wallet', 'https://www.certik.com/resources/blog/61IYiqqASgw9kA5BsmaqKa-what-is-web3-security']}\n",
      "{'What is the most secure web3 wallet? ': ['https://www.linkedin.com/pulse/best-most-secure-web3-wallets-use-2023-patrick-edijala', 'https://www.dipprofit.com/the-best-web3-wallet-in-2023/']}\n"
     ]
    },
    {
     "name": "stderr",
     "output_type": "stream",
     "text": [
      "Retrying langchain.llms.openai.BaseOpenAI.completion_with_retry.<locals>._completion_with_retry in 4.0 seconds as it raised RateLimitError: Rate limit reached for default-text-davinci-003 in organization org-mrK2kSCEDDLFwshwzA1wjEBX on tokens per min. Limit: 250000 / min. Current: 324540 / min. Contact support@openai.com if you continue to have issues..\n"
     ]
    },
    {
     "name": "stdout",
     "output_type": "stream",
     "text": [
      "{'Are web3 wallet private keys secure? ': ['https://stackoverflow.com/questions/66914072/accessing-a-private-key-in-a-metamask-wallet', 'https://support.blockchain.com/hc/en-us/articles/360000951966-What-are-public-and-private-keys-in-crypto-']}\n",
      "{'Do web3 wallets require authentication? ': ['https://moralis.io/web3-authentication-the-full-guide/', 'https://velas.com/en/blog/web3-authentication-a-comprehensive-guide']}\n",
      "{'Can web3 wallets be hacked?': ['https://a16z.com/2022/04/23/web3-security-crypto-hack-attack-lessons/', 'https://www.bitcoininsider.org/article/181053/can-web3-be-hacked-decentralized-internet-safer', 'https://www.coindesk.com/markets/2022/08/03/phantom-wallet-exploit-drains-millions-in-sol-tokens/', 'https://www.blockchain-allnews.com/blockchain/can-web3-be-hacked-is-the-decentralized-web-safer/', 'https://medium.com/immunefi/hacking-the-blockchain-an-ultimate-guide-4f34b33c6e8b']}\n",
      "{'What can I do to protect my web3 wallet?': ['https://opensea.io/learn/how-to-stay-protected-in-web3']}\n",
      "{'How to manage funds with a web3 wallet?': ['https://medium.portto.com/how-to-integrate-with-a-web3-wallet-13026fce2337', 'https://www.okx.com/learn/how-to-fund-your-okx-web3-wallet']}\n",
      "{'How to set up a web3 wallet? ': ['https://medium.com/@genopets/stepping-into-web3-how-to-set-up-your-wallet-2e0346646a15', 'https://docs.alchemy.com/docs/how-to-set-up-core-web3-developer-tools', 'https://moralis.io/how-to-set-up-a-self-hosted-web3-server/']}\n",
      "{'What are the features of a web3 wallet? ': []}\n",
      "{'How does a web3 wallet work? ': []}\n",
      "{'How to store funds in a web3 wallet? ': ['https://www.quicknode.com/guides/ethereum-development/how-to-integrate-ipfs-with-ethereum']}\n",
      "{'How to secure funds in a web3 wallet?': []}\n",
      "{'What is Ethereum blockchain?': ['https://www.techtarget.com/whatis/definition/Ethereum']}\n"
     ]
    },
    {
     "name": "stderr",
     "output_type": "stream",
     "text": [
      "Retrying langchain.llms.openai.BaseOpenAI.completion_with_retry.<locals>._completion_with_retry in 4.0 seconds as it raised RateLimitError: Rate limit reached for default-text-davinci-003 in organization org-mrK2kSCEDDLFwshwzA1wjEBX on tokens per min. Limit: 250000 / min. Current: 324580 / min. Contact support@openai.com if you continue to have issues..\n"
     ]
    },
    {
     "name": "stdout",
     "output_type": "stream",
     "text": [
      "{'What is the purpose of Ethereum?': ['https://www.quora.com/What-is-the-purpose-of-Ethereum', 'https://www.simplilearn.com/tutorials/blockchain-tutorial/what-is-ethereum', 'https://www.geeksforgeeks.org/what-is-ethereum-virtual-machine-and-how-it-works/']}\n"
     ]
    },
    {
     "name": "stderr",
     "output_type": "stream",
     "text": [
      "Retrying langchain.llms.openai.BaseOpenAI.completion_with_retry.<locals>._completion_with_retry in 4.0 seconds as it raised RateLimitError: Rate limit reached for default-text-davinci-003 in organization org-mrK2kSCEDDLFwshwzA1wjEBX on tokens per min. Limit: 250000 / min. Current: 324600 / min. Contact support@openai.com if you continue to have issues..\n"
     ]
    },
    {
     "name": "stdout",
     "output_type": "stream",
     "text": [
      "{'What can Ethereum be used for?': ['https://ethereum.org/en/developers/docs/intro-to-ether/', 'https://www.gemini.com/cryptopedia/ethereum-smart-contracts-tokens-use-cases', 'https://medium.com/cryptocurrency-secrets-for-beginners/ethereum-what-are-some-of-the-uses-for-ethereum-and-what-can-it-be-used-for-319ab3c0cc48', 'https://blog.devgenius.io/decoding-the-science-of-ethereum-its-top-use-cases-d2fba40c0cbb']}\n",
      "{'How does Ethereum work?': ['https://www.makeuseof.com/what-is-ethereum-how-does-it-work/', 'https://blog.carret.in/what-is-ethereum-and-its-ecosystem/', 'https://ethereum.org/en/governance/', 'https://www.elluminatiinc.com/ethereum/', 'https://www.quora.com/How-does-one-access-the-Ethereum-blockchain-using-Python-language']}\n",
      "{'What is the difference between Bitcoin and Ethereum?': ['https://www.thebalancemoney.com/ethereum-vs-bitcoin-how-do-eth-and-btc-compare-5218717', 'https://www.forbes.com/sites/bernardmarr/2018/02/05/what-is-the-difference-between-bitcoin-and-ethereum/', 'https://askanydifference.com/difference-between-bitcoin-and-ethereum/', 'https://www.geeksforgeeks.org/difference-between-bitcoin-and-blockchain/']}\n",
      "{'Is Ethereum a cryptocurrency?': ['https://www.coindesk.com/learn/which-crypto-projects-are-based-on-ethereum/', 'https://www.theguardian.com/technology/2022/aug/29/cryptocurrency-ethereum-plans-to-cut-carbon-emissions-by-99-per-cent-with-upgrade', 'https://bitquery.io/products/ethereum-api']}\n",
      "{'What is Ethereum mining?': ['https://ethereum.org/en/developers/docs/consensus-mechanisms/pow/mining/', 'https://ethereum.org/en/developers/docs/consensus-mechanisms/pow/mining-algorithms/']}\n",
      "{'What are Ethereum smart contracts?': ['https://ethereum.org/en/developers/docs/smart-contracts/', 'https://ethereum.org/en/smart-contracts/', 'https://www.howtogeek.com/350322/what-is-ethereum-and-what-are-smart-contracts/', 'https://101blockchains.com/ethereum-smart-contracts/', 'https://www.upgrad.com/blog/ethereum-smart-contract/', 'https://101blockchains.com/ethereum-and-smart-contracts-interview-questions/', 'https://ethereum.org/en/developers/docs/smart-contracts/verifying/', 'https://www.section.io/engineering-education/ethereum-and-smart-contracts/', 'https://www.blockchain-council.org/blockchain/top-30-interview-questions-for-ethereum-smart-contracts/', 'https://en.cryptonomist.ch/2019/09/07/ethereum-blockchain-smart-contracts/']}\n",
      "{'What is Ethereum gas?': ['https://www.investopedia.com/terms/g/gas-ethereum.asp', 'https://blockgeeks.com/guides/ethereum-gas/', 'https://www.coindesk.com/learn/what-are-ethereum-gas-fees/', 'https://aws.amazon.com/blockchain/what-is-ethereum/']}\n",
      "{'What is Ethereum 2.0?': ['https://www.investopedia.com/ethereum-2-0-6455959', 'https://decrypt.co/resources/what-is-ethereum-2-0', 'https://consensys.net/blog/blockchain-explained/what-is-ethereum-2/', 'https://blockchain-media.org/en/chto-takoe-ethereum-2-0/', 'https://www.livemint.com/market/cryptocurrency/bitcoin-falls-5-2-to-22-253-ethereum-down-5-35-as-silvergate-unravels-11677895846934.html']}\n",
      "{'What is the price of Ethereum?': ['https://www.binance.com/en-IN/price/ethereum', 'https://ethereumprice.org/what-is-ethereum/', 'https://www.coindesk.com/consensus-magazine/2023/03/03/ethdenver-looks-cringey-to-you-because-ethereum-has-an-actual-community/']}\n",
      "{'How to buy Ethereum?': ['https://www.forbes.com/advisor/investing/cryptocurrency/how-to-buy-ethereum/', 'https://capex.com/en/trading/cryptocurrencies/ethereum-how-to-buy', 'https://medium.com/ethereum-grid/ethereum-101-whats-a-blockchain-5a1e925963d7']}\n",
      "{'What are Ethereum Smart Contracts?': ['https://cloud.google.com/blog/products/data-analytics/ethereum-bigquery-public-dataset-smart-contract-analytics', 'https://ethereum.org/en/developers/tutorials/deploying-your-first-smart-contract/', 'https://medium.com/@blockchain_simplified/solidity-programming-the-smart-contract-language-in-ethereum-cde66fb25b41']}\n"
     ]
    },
    {
     "name": "stderr",
     "output_type": "stream",
     "text": [
      "Retrying langchain.llms.openai.BaseOpenAI.completion_with_retry.<locals>._completion_with_retry in 4.0 seconds as it raised RateLimitError: Rate limit reached for default-text-davinci-003 in organization org-mrK2kSCEDDLFwshwzA1wjEBX on tokens per min. Limit: 250000 / min. Current: 324660 / min. Contact support@openai.com if you continue to have issues..\n"
     ]
    },
    {
     "name": "stdout",
     "output_type": "stream",
     "text": [
      "{'What is the purpose of Ethereum smart contracts? ': ['https://www.geeksforgeeks.org/smart-contracts-in-blockchain/', 'https://www.blockchain-council.org/ethereum/smart-contracts-blockchain/', 'https://www.simplilearn.com/tutorials/blockchain-tutorial/what-is-smart-contract']}\n",
      "{'How do Ethereum smart contracts work? ': ['https://www.coindesk.com/learn/how-do-ethereum-smart-contracts-work/', 'https://www.quicknode.com/guides/smart-contract-development/an-overview-of-how-smart-contracts-work-on-ethereum', 'https://www.techviral.org/ethereum-smart-contracts/', 'https://www.blockchain-council.org/ethereum/smart-contracts-works/', 'https://ark-invest.com/articles/analyst-research/smart-contracts-work/']}\n",
      "{'What are the benefits of Ethereum smart contracts? ': ['https://content.enkronos.com/what-is-a-smart-contract-advantages-and-disadvantages/', 'https://merehead.com/blog/what-blockchain-smart-contracts-benefits/', 'https://www.techtarget.com/searchcio/feature/Examples-of-smart-contracts-on-blockchain']}\n",
      "{'How secure are Ethereum smart contracts? ': ['https://ethereum.org/uz/developers/docs/smart-contracts/security/', 'https://proofeasy.io/blockchain-secure-documents-ethereum-smart-contracts/', 'https://blog.ethereum.org/2016/06/19/thinking-smart-contract-security']}\n",
      "{'What are the uses of Ethereum smart contracts? ': ['https://www.blockchain-council.org/blockchain/5-best-use-cases-of-ethereum-smart-contracts/', 'https://screenrant.com/blockchain-smart-contracts-uses-explained/', 'https://onlinelibrary.wiley.com/doi/full/10.1002/cpe.7656']}\n",
      "{'What are the limitations of Ethereum smart contracts? ': ['https://www.mdpi.com/2078-2489/14/2/117', 'https://www.analyticssteps.com/blogs/advantages-and-disadvantages-ethereum', 'https://securitypilgrim.com/4-limitations-of-smart-contracts/', 'https://blog.trezor.io/smart-contracts-real-world-uses-and-limitations-d9b25ed38072', 'https://subscription.packtpub.com/book/big-data-and-business-intelligence/9781789954722/15/ch15lvl1sec78/disadvantages-of-ethereum-based-tokens']}\n",
      "{'What languages are used to create Ethereum smart contracts? ': ['https://ethereum.org/en/developers/docs/smart-contracts/languages/', 'https://ethereum.org/en/developers/docs/programming-languages/', 'https://101blockchains.com/smart-contract-programming-languages/', 'https://blog.logrocket.com/smart-contract-programming-languages/', 'https://onlinebootcamp.umn.edu/blog/blockchain/blockchain-programming-languages', 'https://appinventiv.com/blog/best-blockchain-programming-languages/']}\n",
      "{'What are the potential applications of Ethereum smart contracts? ': ['https://www.profolus.com/topics/what-is-ethereum-applications-pros-and-cons/', 'https://101blockchains.com/nft-interview-questions/']}\n",
      "{'How do you write an Ethereum smart contract? ': ['https://ethereum.org/en/developers/tutorials/hello-world-smart-contract/', 'https://www.quicknode.com/guides/smart-contract-development/how-to-write-an-ethereum-smart-contract-using-solidity', 'https://www.freecodecamp.org/news/how-to-write-and-deploy-your-first-smart-contract-341d5e2ffb35/', 'https://10clouds.com/blog/defi/how-to-write-smart-contracts/', 'https://codemag.com/Article/1805061/Understanding-Blockchain-A-Beginners-Guide-to-Ethereum-Smart-Contract-Programming', 'https://blog.containerize.com/2020/12/01/smart-contract-tutorial-ethereum-blockchain-development/', 'https://www.dummies.com/article/business-careers-money/personal-finance/cryptocurrency/ethereum-basics-an-introduction-to-smart-contracts-and-solidity-263715/']}\n",
      "{'How are Ethereum smart contracts different from traditional contracts?': ['https://medium.com/enkronos/smart-contracts-and-ethereum-2-0-the-most-detailed-explanation-ever-760bb4292517', 'https://ethereum.org/ig/smart-contracts/']}\n",
      "{'What is Ethereum used for?': ['https://worldcoin.org/articles/what-is-ethereum']}\n",
      "{'What is Ethereum blockchain?': ['https://blog.imarticus.org/what-is-ethereum-blockchain/', 'https://www.theengineeringprojects.com/2021/06/ethereum-blockchain.html', 'https://www.ibm.com/topics/what-is-blockchain', 'https://www.geeksforgeeks.org/blockchain-in-brief/']}\n",
      "{'How do I buy Ethereum?': ['https://www.investopedia.com/news/how-do-i-buy-ethereum/', 'https://ethereum.org/en/learn/']}\n",
      "{'What is the difference between Ethereum and Bitcoin?': ['https://www.differencebetween.com/what-is-the-difference-between-bitcoin-and-ethereum/']}\n",
      "{'What is Ether currency?': ['https://www.investopedia.com/terms/e/ether-cryptocurrency.asp', 'https://www.coindesk.com/learn/what-is-ether/', 'https://www.investopedia.com/tech/what-ether-it-same-ethereum/', 'https://www.thebalancemoney.com/ether-explained-5218078', 'https://ethereum.org/en/eth/', 'https://link.springer.com/chapter/10.1007/978-3-319-55699-4_34']}\n",
      "{'What is Ethereum smart contract?': ['https://ethereum.org/en/developers/docs/smart-contracts/anatomy/', 'https://ethereum.stackexchange.com/questions/20/what-is-an-ethereum-contract']}\n",
      "{'How to create an Ethereum account?': ['https://blockgeeks.com/how-to-create-an-ethereum-account/', 'https://www.geeksforgeeks.org/what-are-ethereum-accounts/', 'https://www.edureka.co/blog/ethereum-private-network-tutorial', 'https://ethereum.org/en/developers/tutorials/getting-started-with-ethereum-development-using-alchemy/']}\n",
      "{'What is Ethereum development?': ['https://ethereum.org/en/developers/tutorials/', 'https://ethereum.org/en/developers/docs/standards/']}\n",
      "{'How to use Ethereum wallet?': []}\n",
      "{'What is Ethereum Classic?': ['https://www.investopedia.com/terms/e/ethereum-classic.asp', 'https://www.simplilearn.com/tutorials/blockchain-tutorial/what-is-ethereum-classic', 'https://decrypt.co/resources/what-is-ethereum-classic-explained-guide-cryptocurrency', 'https://komodoplatform.com/en/academy/what-is-ethereum-classic-etc/', 'https://www.blockchain-council.org/ethereum/ethereum-classic-a-beginners-guide/', 'https://ethereumclassic.org/services/', 'https://www.blockchain-council.org/blockchain/ethereum-ethereum-classic-a-detailed-description/', 'https://etherplan.com/2020/01/28/the-ethereum-classic-ecosystem-explained/9680/', 'https://www.coin98.net/what-is-ethereum-classic-etc']}\n",
      "{'What is Ethereum Virtual Machine?': ['https://crypto-academy.org/ethereum-virtual-machine-explained/', 'https://ethereum.org/en/developers/docs/evm/', 'https://cointelegraph.com/news/what-is-an-ethereum-virtual-machine-evm-and-how-does-it-work', 'https://geekflare.com/ethereum-virtual-machine/', 'https://shardeum.org/blog/ethereum-virtual-machine-evm-simplified/', 'https://www.makeuseof.com/beginners-guide-ethereum-virtual-machine/', 'https://101blockchains.com/ethereum-virtual-machine/', 'https://www.immunebytes.com/blog/ethereum-virtual-machine-in-blockchain/']}\n",
      "{'What is the purpose of Ethereum Virtual Machine?': ['https://www.coingecko.com/learn/ethereum-virtual-machine-evm', 'https://learn.bybit.com/deep-dive/what-is-ethereum-virtual-machine-evm/']}\n",
      "{'How does Ethereum Virtual Machine work?': ['https://phemex.com/academy/ethereum-virtual-machine', 'https://medium.com/mycrypto/the-ethereum-virtual-machine-how-does-it-work-9abac2b7c9e', 'https://medium.com/omniaprotocol/the-ethereum-virtual-machine-evm-what-is-it-and-how-does-it-work-e61fbe67996']}\n",
      "{'Is Ethereum Virtual Machine secure?': ['https://moralis.io/evm-explained-what-is-ethereum-virtual-machine/', 'https://www.cointree.com/learn/ethereum-virtual-machine/', 'https://hackernoon.com/top-4-blockchain-virtual-machines-for-decentralized-applications']}\n",
      "{'How is Ethereum Virtual Machine different from other virtual machines?': []}\n",
      "{'What programming language is used in Ethereum Virtual Machine?': ['https://www.freelancinggig.com/blog/2018/06/15/what-programming-language-is-ethereum-written-in/', 'https://medium.datadriveninvestor.com/which-programming-language-is-used-in-ethereum-blockchain-13ce65f5191d', 'https://www.codecademy.com/resources/blog/programming-languages-blockchain-development/', 'https://blog.mobcoder.com/blockchain-programming-languages/']}\n",
      "{'How to build an application using Ethereum Virtual Machine?': ['https://www.dappuniversity.com/articles/how-to-build-a-blockchain-app', 'https://www.geeksforgeeks.org/application-binary-interfaceabi-in-ethereum-virtual-machine/', 'https://worldcoin.org/articles/what-is-the-ethereum-virtual-machine']}\n",
      "{'How to deploy a contract in Ethereum Virtual Machine?': ['https://ethereum.org/en/developers/docs/smart-contracts/deploying/', 'https://www.geeksforgeeks.org/how-to-simply-deploy-a-smart-contract-on-ethereum/', 'https://stackoverflow.com/questions/58833175/deploy-smart-contract-on-blockchain-only-using-evm-api-without-using-geth-or-tuf', 'https://medium.com/swlh/develop-test-and-deploy-your-first-ethereum-smart-contract-with-truffle-14e8956d69fc', 'https://veeevek.medium.com/deploying-a-smart-contract-in-blockchain-ethereum-with-remix-d6d5e3ce23db']}\n",
      "{'What benefits does Ethereum Virtual Machine offer?': ['https://4soft.co/6-benefits-of-ethereum-virtual-machine/']}\n",
      "{'What do I need to know to use Ethereum Virtual Machine?': ['https://www.techrepublic.com/article/ethereum-a-cheat-sheet-for-professionals-everything-you-need-to-know/', 'https://coinpedia.org/news/basics-about-ethereum-virtual-machineevm/']}\n",
      "{'What is the impact of Ethereum Virtual Machine on the blockchain ecosystem?': ['https://www.blockchain-council.org/blockchain/blockchain-technology-and-its-environmental-impact-on-our-world/']}\n",
      "{'How can Ethereum be used to decentralize applications?': ['https://ethereum.org/en/dapps/', 'https://ethereum.org/en/defi/', 'https://www.investopedia.com/terms/d/decentralized-applications-dapps.asp', 'https://consensys.net/knowledge-base/ethereum/', 'https://www.blockchain-council.org/blockchain/what-is-decentralization-in-blockchain/', 'https://www.geeksforgeeks.org/applications-and-uses-of-blockchain/']}\n",
      "{'What is Ethereum?': []}\n",
      "{'What is decentralized application (dApp)?': ['https://www.geeksforgeeks.org/what-are-decentralized-apps-dapps-in-blockchain/', 'https://decrypt.co/resources/what-are-decentralized-applications-dapps', 'https://ethereum.org/en/developers/docs/dapps/', 'https://www.coindesk.com/learn/what-is-a-dapp-decentralized-apps-explained/', 'https://www.techtarget.com/iotagenda/definition/blockchain-dApp', 'https://101blockchains.com/what-is-dapp/', 'https://coinpedia.org/blockchain-developers/dapps-decentralised-applications/', 'https://www.coindesk.com/learn/what-is-a-decentralized-application/', 'https://aws.amazon.com/blockchain/decentralization-in-blockchain/']}\n",
      "{'How to create a dApp on Ethereum?': ['https://www.dappuniversity.com/articles/the-ultimate-ethereum-dapp-tutorial', 'https://moralis.io/how-to-create-an-ethereum-dapp-instantly/', 'https://cryptosoc.github.io/tutorials/make-a-dapp/', 'https://www.freecodecamp.org/news/what-is-a-dapp-a-guide-to-ethereum-dapps/', 'https://medium.com/geekculture/create-your-first-dapp-on-ethereum-6eb50b4083f2', 'https://www.geeksforgeeks.org/best-ethereum-development-tools-to-create-dapps/', 'https://maverick705.medium.com/create-your-first-ethereum-dapp-a26304c5293e', 'https://medium.com/ethereum-dapp-builder/blockchain-and-how-to-create-a-dapp-daa1a548ff51']}\n",
      "{'What are the benefits of decentralized applications?': ['https://phemex.com/academy/dapps-decentralized-applications', 'https://community.nasscom.in/communities/blockchain/how-does-blockchain-aid-decentralized-ecosystem-development', 'https://medium.com/swlh/9-components-of-the-decentralised-ecosystem-that-we-need-to-build-a-decentralised-society-f07834d2d2c9']}\n",
      "{'How Ethereum Blockchain works?': ['https://www.freecodecamp.org/news/technical-primer-to-blockchain-ethereum/', 'https://intellipaat.com/blog/tutorial/blockchain-tutorial/how-does-blockchain-work/']}\n",
      "{'What is smart contract on Ethereum?': []}\n",
      "{'What are the use cases of Ethereum?': ['https://originstamp.com/blog/what-is-ethereum-and-what-are-its-use-cases/', 'https://blokt.com/guides/eth-use-cases', 'https://nowpayments.io/blog/7-ways-to-use-ethereum-right-now', 'https://medium.com/blockchain-vidhya/11-real-world-use-cases-for-ethereum-352ad4509fa1', 'https://www.quora.com/What-are-the-10-real-world-use-cases-for-Ethereum', 'https://medium.com/geekculture/what-is-ethereum-and-what-are-its-use-cases-e7c490bc4a4', 'https://www.blockchain-council.org/blockchain/blockchain-technology-use-cases/']}\n",
      "{'What is Gas in Ethereum?': ['https://www.thebalancemoney.com/gas-ethereum-5189030', 'https://u.today/guides/blockchain/what-is-gas-in-ethereum-and-how-it-works', 'https://ethereum.org/en/developers/docs/gas/', 'https://101blockchains.com/what-is-ethereum-gas/', 'https://medium.com/@eiki1212/what-is-ethereum-gas-simple-explanation-2f0ae62ed69c', 'https://consensys.net/blog/blockchain-explained/a-guide-to-gas/', 'https://academy.moralis.io/blog/talking-about-eth-gas-ethereum-gas-explained']}\n",
      "{'What is Ethereum Virtual Machine (EVM)?': []}\n",
      "{'What are Ethereum tokens?': ['https://blockgeeks.com/guides/ethereum-token/', 'https://www.quora.com/What-are-ethereum-tokens', 'https://ethereum.org/en/developers/docs/standards/tokens/', 'https://ethereum.org/en/developers/docs/standards/tokens/erc-20/', 'https://www.binance.com/en/blog/fiat/10-important-projects-and-tokens-on-the-ethereum-ecosystem-421499824684903881', 'https://docs.aws.amazon.com/managed-blockchain/latest/ethereum-dev/ethereum-tokens.html', 'https://developer.samsung.com/sdp/blog/en-us/2022/11/17/manage-your-tokens-on-the-ethereum-network-with-samsung-blockchain-platform-sdk', 'https://www.coingecko.com/en/categories/ethereum-ecosystem']}\n",
      "{'What is an ERC-token?': ['https://www.investopedia.com/news/what-erc20-and-what-does-it-mean-ethereum/', 'https://boxmining.com/erc-tokens/', 'https://www.bitcoin.com/get-started/what-are-erc-20-tokens', 'https://coinmarketcap.com/alexandria/article/the-beginners-guide-to-erc-20-tokens-and-addresses', 'https://cleartax.in/s/erc-20-tokens', 'https://www.makeuseof.com/erc-20-vs-trc-20-vs-bep-20-tokens/', 'https://www.blockchain-council.org/ethereum/erc-token-standards/', 'https://phemex.com/academy/erc20-token-ethereum', 'https://ethereum.org/en/developers/docs/standards/tokens/erc-721/', 'https://www.blockchain-council.org/ethereum/beginners-guide-what-is-erc20/']}\n",
      "{'What are the top Ethereum tokens?': ['https://www.investinblockchain.com/top-ethereum-tokens/', 'https://www.fool.ca/2022/01/14/which-ethereum-tokens-are-the-best-cryptocurrencies-to-buy-in-2022/', 'https://www.startupgrind.com/blog/8-essential-ethereum-blockchain-tokens/', 'https://coindcx.com/blog/cryptocurrency/top-ethereum-erc-20-tokens/', 'https://coingape.com/top-7-ethereum-ecosystem-tokens-you-can-add-portfolio-next-week-10001/', 'https://cryptalker.com/ethereum-tokens/', 'https://www.cryptopolitan.com/crypto-exchange-tokens/', 'https://coingape.com/ethereum-erc20-tokens-to-buy-in-february-2023-here-are-the-top-picks-10051/']}\n",
      "{'What is Ethereum tokenomics?': ['https://academy.shrimpy.io/post/ethereum-tokenomics-explained', 'https://www.axi.com/int/blog/education/blockchain/what-is-tokenomics', 'https://academy.binance.com/en/articles/what-is-tokenomics-and-why-does-it-matter', 'https://learncrypto.com/knowledge-base/basics/what-are-tokenomics', 'https://www.coingecko.com/en/coins/ethereum/tokenomics', 'https://www.coingecko.com/learn/what-is-tokenomics-understanding-crypto-fundamentals', 'https://tanay.substack.com/p/the-tokenomics-of-ethereum', 'https://www.blockchain-council.org/cryptocurrency/tokenomics/', 'https://decrypt.co/resources/tokenomics']}\n",
      "{'How to create an Ethereum token?': ['https://moralis.io/how-to-create-ethereum-tokens-in-4-steps/', 'https://www.securitytokenizer.io/how-to-create-ethereum-token', 'https://blockonomi.com/create-ethereum-token/', 'https://en.cryptonomist.ch/2020/06/28/create-token-on-ethereum-blockchain/', 'https://morioh.com/p/413444b41ef2', 'https://dev.to/codesphere/create-your-own-ethereum-token-in-minutes-42ao', 'https://dev.to/neelansh15/how-to-create-your-own-token-on-the-ethereum-blockchain-44il', 'https://www.cryptocurrencyscript.com/blog/profitable-way-to-create-ethereum-token', 'https://createtoken.blog/']}\n",
      "{'What is the difference between Ethereum tokens and coins?': ['https://www.coinbase.com/cloud/discover/dev-foundations/networks-protocols-tokens-coins', 'https://www.thebalancemoney.com/cryptocurrency-tokens-vs-coins-what-s-the-difference-5270420', 'https://crypto.com/university/crypto-tokens-vs-coins-difference', 'https://www.bitdegree.org/crypto/tutorials/token-vs-coin', 'https://www.outlookindia.com/business/demystified-the-difference-between-crypto-coins-and-crypto-tokens-read-here-for-details-news-197683', 'https://blog.kattana.io/token-vs-crypto-coin-what-is-the-difference/', 'https://blog.unocoin.com/2023/02/17/crypto-tokens-vs-coins-whats-the-difference/', 'https://beincrypto.com/learn/what-are-altcoins/']}\n",
      "{'What are the benefits of Ethereum tokens?': ['https://bizeducator.com/benefits-and-importance-of-ethereum-cryptocurrency/', 'https://blockchain.oodles.io/blog/understanding-types-of-crypto-tokens-benefits/', 'https://nairametrics.com/2022/09/30/benefits-of-the-ethereum-merge-to-stakeholders-expert/']}\n",
      "{'What are the applications of Ethereum tokens?': ['https://coindcx.com/blog/cryptocurrency/top-ethereum-blockchain-tokens-and-applications-i-beginners-guide/', 'https://ethereum.stackexchange.com/questions/50041/what-is-token-why-do-we-need-it']}\n",
      "{'What are the security implications of Ethereum tokens?': ['https://www.securities.io/ethereum-security-or-not/', 'https://beosin.com/resources/ethereum-merge--the-impact-regulation-and-security-issues', 'https://hackernoon.com/the-case-against-security-tokens-in-ethereum-cc08e0b00c2f', 'https://www.hindawi.com/journals/scn/2022/5307697/', 'https://tokenist.com/explained-ethereums-scalability-problems-and-growing-backlash/']}\n",
      "{'How to buy Ethereum tokens?': ['https://www.kucoin.com/blog/how-to-buy-ethereum-ultimate-2022-guide', 'https://www.businessinsider.com/crypto-tokens-to-buy-ethereum-merge-defi-portfolio-investing-strategy-2022-8']}\n",
      "{'What is Ethereum token standard?': ['https://coincodex.com/article/2129/ethereum-token-standards-erc20-erc721-erc223-and-more/', 'https://stealthex.io/blog/what-are-erc-20-tokens-the-ethereum-token-standard/', 'https://crypto.com/university/what-are-token-standards', 'https://medium.com/cdzexchange/token-standards-what-are-they-5d30eec12dcc']}\n",
      "{'What is an ERCtoken?': ['https://www.topgrad.io/the-blockchain-ecosystem-practice-mcq-test/', 'https://101blockchains.com/blockchain-ecosystem-components/', 'https://xavinci.com/insights/what-blockchain-ecosystem', 'https://chillcrypto.io/what-is-a-blockchain-ecosystem/']}\n"
     ]
    },
    {
     "ename": "HTTPError",
     "evalue": "403 Client Error: Quota Exceeded for url: https://api.bing.microsoft.com/v7.0/search?q=What+is+an+ERCToken%3F++Note%3A+The+query+is+related+to+the+blockchain+ecosystem.&textDecorations=True&textFormat=HTML",
     "output_type": "error",
     "traceback": [
      "\u001b[1;31m---------------------------------------------------------------------------\u001b[0m",
      "\u001b[1;31mHTTPError\u001b[0m                                 Traceback (most recent call last)",
      "\u001b[1;32m~\\AppData\\Local\\Temp\\ipykernel_25064\\1843622550.py\u001b[0m in \u001b[0;36m<module>\u001b[1;34m\u001b[0m\n\u001b[0;32m      2\u001b[0m \u001b[0mdone_queries\u001b[0m\u001b[1;33m,\u001b[0m \u001b[0mdone_urls\u001b[0m \u001b[1;33m=\u001b[0m \u001b[0mset\u001b[0m\u001b[1;33m(\u001b[0m\u001b[1;33m)\u001b[0m\u001b[1;33m,\u001b[0m \u001b[0mset\u001b[0m\u001b[1;33m(\u001b[0m\u001b[1;33m)\u001b[0m\u001b[1;33m\u001b[0m\u001b[1;33m\u001b[0m\u001b[0m\n\u001b[0;32m      3\u001b[0m \u001b[1;32mfor\u001b[0m \u001b[0mq\u001b[0m \u001b[1;32min\u001b[0m \u001b[0mqueries\u001b[0m\u001b[1;33m:\u001b[0m\u001b[1;33m\u001b[0m\u001b[1;33m\u001b[0m\u001b[0m\n\u001b[1;32m----> 4\u001b[1;33m     \u001b[0murls\u001b[0m \u001b[1;33m=\u001b[0m \u001b[0mfind_urls\u001b[0m\u001b[1;33m(\u001b[0m\u001b[0mq\u001b[0m\u001b[1;33m,\u001b[0m \u001b[0msearcher\u001b[0m\u001b[1;33m,\u001b[0m \u001b[0mdepth\u001b[0m\u001b[1;33m=\u001b[0m\u001b[1;36m5\u001b[0m\u001b[1;33m)\u001b[0m\u001b[1;33m\u001b[0m\u001b[1;33m\u001b[0m\u001b[0m\n\u001b[0m\u001b[0;32m      5\u001b[0m     \u001b[1;32mbreak\u001b[0m\u001b[1;33m\u001b[0m\u001b[1;33m\u001b[0m\u001b[0m\n",
      "\u001b[1;32m~\\AppData\\Local\\Temp\\ipykernel_25064\\2242248030.py\u001b[0m in \u001b[0;36mfind_urls\u001b[1;34m(query, searcher, depth)\u001b[0m\n\u001b[0;32m     10\u001b[0m     \u001b[1;32mfor\u001b[0m \u001b[0mq\u001b[0m \u001b[1;32min\u001b[0m \u001b[0mrelS\u001b[0m\u001b[1;33m:\u001b[0m\u001b[1;33m\u001b[0m\u001b[1;33m\u001b[0m\u001b[0m\n\u001b[0;32m     11\u001b[0m         \u001b[1;32mif\u001b[0m \u001b[0mq\u001b[0m \u001b[1;32min\u001b[0m \u001b[0mdone_queries\u001b[0m\u001b[1;33m:\u001b[0m \u001b[1;32mcontinue\u001b[0m\u001b[1;33m\u001b[0m\u001b[1;33m\u001b[0m\u001b[0m\n\u001b[1;32m---> 12\u001b[1;33m         \u001b[0mx\u001b[0m \u001b[1;33m=\u001b[0m \u001b[0mfind_urls\u001b[0m\u001b[1;33m(\u001b[0m\u001b[0mq\u001b[0m\u001b[1;33m,\u001b[0m \u001b[0msearcher\u001b[0m\u001b[1;33m,\u001b[0m \u001b[0mdepth\u001b[0m\u001b[1;33m=\u001b[0m\u001b[0mdepth\u001b[0m\u001b[1;33m-\u001b[0m\u001b[1;36m1\u001b[0m\u001b[1;33m)\u001b[0m\u001b[1;33m\u001b[0m\u001b[1;33m\u001b[0m\u001b[0m\n\u001b[0m\u001b[0;32m     13\u001b[0m         \u001b[0mdone_queries\u001b[0m\u001b[1;33m.\u001b[0m\u001b[0madd\u001b[0m\u001b[1;33m(\u001b[0m\u001b[0mq\u001b[0m\u001b[1;33m)\u001b[0m\u001b[1;33m\u001b[0m\u001b[1;33m\u001b[0m\u001b[0m\n\u001b[0;32m     14\u001b[0m         \u001b[0mq_urls\u001b[0m\u001b[1;33m.\u001b[0m\u001b[0mappend\u001b[0m\u001b[1;33m(\u001b[0m\u001b[0mx\u001b[0m\u001b[1;33m)\u001b[0m\u001b[1;33m\u001b[0m\u001b[1;33m\u001b[0m\u001b[0m\n",
      "\u001b[1;32m~\\AppData\\Local\\Temp\\ipykernel_25064\\2242248030.py\u001b[0m in \u001b[0;36mfind_urls\u001b[1;34m(query, searcher, depth)\u001b[0m\n\u001b[0;32m     10\u001b[0m     \u001b[1;32mfor\u001b[0m \u001b[0mq\u001b[0m \u001b[1;32min\u001b[0m \u001b[0mrelS\u001b[0m\u001b[1;33m:\u001b[0m\u001b[1;33m\u001b[0m\u001b[1;33m\u001b[0m\u001b[0m\n\u001b[0;32m     11\u001b[0m         \u001b[1;32mif\u001b[0m \u001b[0mq\u001b[0m \u001b[1;32min\u001b[0m \u001b[0mdone_queries\u001b[0m\u001b[1;33m:\u001b[0m \u001b[1;32mcontinue\u001b[0m\u001b[1;33m\u001b[0m\u001b[1;33m\u001b[0m\u001b[0m\n\u001b[1;32m---> 12\u001b[1;33m         \u001b[0mx\u001b[0m \u001b[1;33m=\u001b[0m \u001b[0mfind_urls\u001b[0m\u001b[1;33m(\u001b[0m\u001b[0mq\u001b[0m\u001b[1;33m,\u001b[0m \u001b[0msearcher\u001b[0m\u001b[1;33m,\u001b[0m \u001b[0mdepth\u001b[0m\u001b[1;33m=\u001b[0m\u001b[0mdepth\u001b[0m\u001b[1;33m-\u001b[0m\u001b[1;36m1\u001b[0m\u001b[1;33m)\u001b[0m\u001b[1;33m\u001b[0m\u001b[1;33m\u001b[0m\u001b[0m\n\u001b[0m\u001b[0;32m     13\u001b[0m         \u001b[0mdone_queries\u001b[0m\u001b[1;33m.\u001b[0m\u001b[0madd\u001b[0m\u001b[1;33m(\u001b[0m\u001b[0mq\u001b[0m\u001b[1;33m)\u001b[0m\u001b[1;33m\u001b[0m\u001b[1;33m\u001b[0m\u001b[0m\n\u001b[0;32m     14\u001b[0m         \u001b[0mq_urls\u001b[0m\u001b[1;33m.\u001b[0m\u001b[0mappend\u001b[0m\u001b[1;33m(\u001b[0m\u001b[0mx\u001b[0m\u001b[1;33m)\u001b[0m\u001b[1;33m\u001b[0m\u001b[1;33m\u001b[0m\u001b[0m\n",
      "\u001b[1;32m~\\AppData\\Local\\Temp\\ipykernel_25064\\2242248030.py\u001b[0m in \u001b[0;36mfind_urls\u001b[1;34m(query, searcher, depth)\u001b[0m\n\u001b[0;32m     10\u001b[0m     \u001b[1;32mfor\u001b[0m \u001b[0mq\u001b[0m \u001b[1;32min\u001b[0m \u001b[0mrelS\u001b[0m\u001b[1;33m:\u001b[0m\u001b[1;33m\u001b[0m\u001b[1;33m\u001b[0m\u001b[0m\n\u001b[0;32m     11\u001b[0m         \u001b[1;32mif\u001b[0m \u001b[0mq\u001b[0m \u001b[1;32min\u001b[0m \u001b[0mdone_queries\u001b[0m\u001b[1;33m:\u001b[0m \u001b[1;32mcontinue\u001b[0m\u001b[1;33m\u001b[0m\u001b[1;33m\u001b[0m\u001b[0m\n\u001b[1;32m---> 12\u001b[1;33m         \u001b[0mx\u001b[0m \u001b[1;33m=\u001b[0m \u001b[0mfind_urls\u001b[0m\u001b[1;33m(\u001b[0m\u001b[0mq\u001b[0m\u001b[1;33m,\u001b[0m \u001b[0msearcher\u001b[0m\u001b[1;33m,\u001b[0m \u001b[0mdepth\u001b[0m\u001b[1;33m=\u001b[0m\u001b[0mdepth\u001b[0m\u001b[1;33m-\u001b[0m\u001b[1;36m1\u001b[0m\u001b[1;33m)\u001b[0m\u001b[1;33m\u001b[0m\u001b[1;33m\u001b[0m\u001b[0m\n\u001b[0m\u001b[0;32m     13\u001b[0m         \u001b[0mdone_queries\u001b[0m\u001b[1;33m.\u001b[0m\u001b[0madd\u001b[0m\u001b[1;33m(\u001b[0m\u001b[0mq\u001b[0m\u001b[1;33m)\u001b[0m\u001b[1;33m\u001b[0m\u001b[1;33m\u001b[0m\u001b[0m\n\u001b[0;32m     14\u001b[0m         \u001b[0mq_urls\u001b[0m\u001b[1;33m.\u001b[0m\u001b[0mappend\u001b[0m\u001b[1;33m(\u001b[0m\u001b[0mx\u001b[0m\u001b[1;33m)\u001b[0m\u001b[1;33m\u001b[0m\u001b[1;33m\u001b[0m\u001b[0m\n",
      "\u001b[1;32m~\\AppData\\Local\\Temp\\ipykernel_25064\\2242248030.py\u001b[0m in \u001b[0;36mfind_urls\u001b[1;34m(query, searcher, depth)\u001b[0m\n\u001b[0;32m     10\u001b[0m     \u001b[1;32mfor\u001b[0m \u001b[0mq\u001b[0m \u001b[1;32min\u001b[0m \u001b[0mrelS\u001b[0m\u001b[1;33m:\u001b[0m\u001b[1;33m\u001b[0m\u001b[1;33m\u001b[0m\u001b[0m\n\u001b[0;32m     11\u001b[0m         \u001b[1;32mif\u001b[0m \u001b[0mq\u001b[0m \u001b[1;32min\u001b[0m \u001b[0mdone_queries\u001b[0m\u001b[1;33m:\u001b[0m \u001b[1;32mcontinue\u001b[0m\u001b[1;33m\u001b[0m\u001b[1;33m\u001b[0m\u001b[0m\n\u001b[1;32m---> 12\u001b[1;33m         \u001b[0mx\u001b[0m \u001b[1;33m=\u001b[0m \u001b[0mfind_urls\u001b[0m\u001b[1;33m(\u001b[0m\u001b[0mq\u001b[0m\u001b[1;33m,\u001b[0m \u001b[0msearcher\u001b[0m\u001b[1;33m,\u001b[0m \u001b[0mdepth\u001b[0m\u001b[1;33m=\u001b[0m\u001b[0mdepth\u001b[0m\u001b[1;33m-\u001b[0m\u001b[1;36m1\u001b[0m\u001b[1;33m)\u001b[0m\u001b[1;33m\u001b[0m\u001b[1;33m\u001b[0m\u001b[0m\n\u001b[0m\u001b[0;32m     13\u001b[0m         \u001b[0mdone_queries\u001b[0m\u001b[1;33m.\u001b[0m\u001b[0madd\u001b[0m\u001b[1;33m(\u001b[0m\u001b[0mq\u001b[0m\u001b[1;33m)\u001b[0m\u001b[1;33m\u001b[0m\u001b[1;33m\u001b[0m\u001b[0m\n\u001b[0;32m     14\u001b[0m         \u001b[0mq_urls\u001b[0m\u001b[1;33m.\u001b[0m\u001b[0mappend\u001b[0m\u001b[1;33m(\u001b[0m\u001b[0mx\u001b[0m\u001b[1;33m)\u001b[0m\u001b[1;33m\u001b[0m\u001b[1;33m\u001b[0m\u001b[0m\n",
      "\u001b[1;32m~\\AppData\\Local\\Temp\\ipykernel_25064\\2242248030.py\u001b[0m in \u001b[0;36mfind_urls\u001b[1;34m(query, searcher, depth)\u001b[0m\n\u001b[0;32m      1\u001b[0m \u001b[1;32mdef\u001b[0m \u001b[0mfind_urls\u001b[0m\u001b[1;33m(\u001b[0m\u001b[0mquery\u001b[0m\u001b[1;33m,\u001b[0m \u001b[0msearcher\u001b[0m\u001b[1;33m,\u001b[0m \u001b[0mdepth\u001b[0m\u001b[1;33m)\u001b[0m\u001b[1;33m:\u001b[0m\u001b[1;33m\u001b[0m\u001b[1;33m\u001b[0m\u001b[0m\n\u001b[1;32m----> 2\u001b[1;33m     \u001b[0murls\u001b[0m\u001b[1;33m,\u001b[0m \u001b[0mrelS_bing\u001b[0m \u001b[1;33m=\u001b[0m \u001b[0msearcher\u001b[0m\u001b[1;33m.\u001b[0m\u001b[0mvia_bing\u001b[0m\u001b[1;33m(\u001b[0m\u001b[0mquery\u001b[0m\u001b[1;33m)\u001b[0m\u001b[1;33m\u001b[0m\u001b[1;33m\u001b[0m\u001b[0m\n\u001b[0m\u001b[0;32m      3\u001b[0m     \u001b[0murls\u001b[0m \u001b[1;33m=\u001b[0m \u001b[1;33m[\u001b[0m\u001b[0mu\u001b[0m \u001b[1;32mfor\u001b[0m \u001b[0mu\u001b[0m \u001b[1;32min\u001b[0m \u001b[0murls\u001b[0m \u001b[1;32mif\u001b[0m \u001b[0mu\u001b[0m \u001b[1;32mnot\u001b[0m \u001b[1;32min\u001b[0m \u001b[0mdone_urls\u001b[0m\u001b[1;33m]\u001b[0m\u001b[1;33m\u001b[0m\u001b[1;33m\u001b[0m\u001b[0m\n\u001b[0;32m      4\u001b[0m     \u001b[0mdone_urls\u001b[0m\u001b[1;33m.\u001b[0m\u001b[0mupdate\u001b[0m\u001b[1;33m(\u001b[0m\u001b[0mset\u001b[0m\u001b[1;33m(\u001b[0m\u001b[0murls\u001b[0m\u001b[1;33m)\u001b[0m\u001b[1;33m)\u001b[0m\u001b[1;33m\u001b[0m\u001b[1;33m\u001b[0m\u001b[0m\n\u001b[0;32m      5\u001b[0m     \u001b[0mrelS_llm\u001b[0m \u001b[1;33m=\u001b[0m \u001b[0msearcher\u001b[0m\u001b[1;33m.\u001b[0m\u001b[0mvia_llm\u001b[0m\u001b[1;33m(\u001b[0m\u001b[0mquery\u001b[0m\u001b[1;33m)\u001b[0m\u001b[1;33m\u001b[0m\u001b[1;33m\u001b[0m\u001b[0m\n",
      "\u001b[1;32m~\\AppData\\Local\\Temp\\ipykernel_25064\\229370853.py\u001b[0m in \u001b[0;36mvia_bing\u001b[1;34m(self, query)\u001b[0m\n\u001b[0;32m     25\u001b[0m         \u001b[0mparams\u001b[0m  \u001b[1;33m=\u001b[0m \u001b[1;33m{\u001b[0m\u001b[1;34m\"q\"\u001b[0m\u001b[1;33m:\u001b[0m \u001b[0mquery\u001b[0m\u001b[1;33m,\u001b[0m \u001b[1;34m\"textDecorations\"\u001b[0m\u001b[1;33m:\u001b[0m \u001b[1;32mTrue\u001b[0m\u001b[1;33m,\u001b[0m \u001b[1;34m\"textFormat\"\u001b[0m\u001b[1;33m:\u001b[0m \u001b[1;34m\"HTML\"\u001b[0m\u001b[1;33m}\u001b[0m\u001b[1;33m\u001b[0m\u001b[1;33m\u001b[0m\u001b[0m\n\u001b[0;32m     26\u001b[0m         \u001b[0mresponse\u001b[0m \u001b[1;33m=\u001b[0m \u001b[0mrequests\u001b[0m\u001b[1;33m.\u001b[0m\u001b[0mget\u001b[0m\u001b[1;33m(\u001b[0m\u001b[0mself\u001b[0m\u001b[1;33m.\u001b[0m\u001b[0msearch_url\u001b[0m\u001b[1;33m,\u001b[0m \u001b[0mheaders\u001b[0m\u001b[1;33m=\u001b[0m\u001b[0mself\u001b[0m\u001b[1;33m.\u001b[0m\u001b[0mheaders\u001b[0m\u001b[1;33m,\u001b[0m \u001b[0mparams\u001b[0m\u001b[1;33m=\u001b[0m\u001b[0mparams\u001b[0m\u001b[1;33m)\u001b[0m\u001b[1;33m\u001b[0m\u001b[1;33m\u001b[0m\u001b[0m\n\u001b[1;32m---> 27\u001b[1;33m         \u001b[0mresponse\u001b[0m\u001b[1;33m.\u001b[0m\u001b[0mraise_for_status\u001b[0m\u001b[1;33m(\u001b[0m\u001b[1;33m)\u001b[0m\u001b[1;33m\u001b[0m\u001b[1;33m\u001b[0m\u001b[0m\n\u001b[0m\u001b[0;32m     28\u001b[0m         \u001b[0mresponse\u001b[0m \u001b[1;33m=\u001b[0m \u001b[0mresponse\u001b[0m\u001b[1;33m.\u001b[0m\u001b[0mjson\u001b[0m\u001b[1;33m(\u001b[0m\u001b[1;33m)\u001b[0m\u001b[1;33m\u001b[0m\u001b[1;33m\u001b[0m\u001b[0m\n\u001b[0;32m     29\u001b[0m         \u001b[0murls\u001b[0m \u001b[1;33m=\u001b[0m \u001b[1;33m[\u001b[0m\u001b[0mx\u001b[0m\u001b[1;33m[\u001b[0m\u001b[1;34m'url'\u001b[0m\u001b[1;33m]\u001b[0m \u001b[1;32mfor\u001b[0m \u001b[0mx\u001b[0m \u001b[1;32min\u001b[0m \u001b[0mresponse\u001b[0m\u001b[1;33m[\u001b[0m\u001b[1;34m'webPages'\u001b[0m\u001b[1;33m]\u001b[0m\u001b[1;33m[\u001b[0m\u001b[1;34m'value'\u001b[0m\u001b[1;33m]\u001b[0m\u001b[1;33m]\u001b[0m\u001b[1;33m\u001b[0m\u001b[1;33m\u001b[0m\u001b[0m\n",
      "\u001b[1;32mc:\\Users\\HARSH\\anaconda3\\lib\\site-packages\\requests\\models.py\u001b[0m in \u001b[0;36mraise_for_status\u001b[1;34m(self)\u001b[0m\n\u001b[0;32m   1019\u001b[0m \u001b[1;33m\u001b[0m\u001b[0m\n\u001b[0;32m   1020\u001b[0m         \u001b[1;32mif\u001b[0m \u001b[0mhttp_error_msg\u001b[0m\u001b[1;33m:\u001b[0m\u001b[1;33m\u001b[0m\u001b[1;33m\u001b[0m\u001b[0m\n\u001b[1;32m-> 1021\u001b[1;33m             \u001b[1;32mraise\u001b[0m \u001b[0mHTTPError\u001b[0m\u001b[1;33m(\u001b[0m\u001b[0mhttp_error_msg\u001b[0m\u001b[1;33m,\u001b[0m \u001b[0mresponse\u001b[0m\u001b[1;33m=\u001b[0m\u001b[0mself\u001b[0m\u001b[1;33m)\u001b[0m\u001b[1;33m\u001b[0m\u001b[1;33m\u001b[0m\u001b[0m\n\u001b[0m\u001b[0;32m   1022\u001b[0m \u001b[1;33m\u001b[0m\u001b[0m\n\u001b[0;32m   1023\u001b[0m     \u001b[1;32mdef\u001b[0m \u001b[0mclose\u001b[0m\u001b[1;33m(\u001b[0m\u001b[0mself\u001b[0m\u001b[1;33m)\u001b[0m\u001b[1;33m:\u001b[0m\u001b[1;33m\u001b[0m\u001b[1;33m\u001b[0m\u001b[0m\n",
      "\u001b[1;31mHTTPError\u001b[0m: 403 Client Error: Quota Exceeded for url: https://api.bing.microsoft.com/v7.0/search?q=What+is+an+ERCToken%3F++Note%3A+The+query+is+related+to+the+blockchain+ecosystem.&textDecorations=True&textFormat=HTML"
     ]
    }
   ],
   "source": [
    "searcher = SearchURLs()\n",
    "all_queries, all_urls = set(), set()\n",
    "for q in queries:\n",
    "    urls = find_urls(q, searcher, depth=5)\n",
    "    break"
   ]
  },
  {
   "cell_type": "code",
   "execution_count": null,
   "metadata": {},
   "outputs": [
    {
     "data": {
      "text/plain": [
       "[{'What is the purpose of web3?': ['https://hbr.org/2022/05/what-is-web3',\n",
       "   'https://ethereum.org/en/web3/',\n",
       "   'https://en.wikipedia.org/wiki/Web3',\n",
       "   'https://www.nytimes.com/interactive/2022/03/18/technology/web3-definition-internet.html',\n",
       "   'https://www.pcmag.com/how-to/what-is-web3-and-how-will-it-work',\n",
       "   'https://www.thedrum.com/opinion/2022/02/09/what-web3-and-why-does-it-matter',\n",
       "   'https://www.gemini.com/cryptopedia/what-is-web3-explained-blockchain-and-web3-crypto-projects',\n",
       "   'https://www.drishtiias.com/daily-updates/daily-news-analysis/web-3-0',\n",
       "   'https://byjus.com/current-affairs/web-3-0/',\n",
       "   'https://consensys.net/blog/blockchain-explained/what-is-web3-here-are-some-ways-to-explain-it-to-a-friend/']},\n",
       " {'What is the role of web3 in blockchain?': ['https://101blockchains.com/blockchain-in-web-3-0/',\n",
       "   'https://hbr.org/2022/05/what-is-web3',\n",
       "   'https://blog.gaurav-dhiman.com/what-is-web3-and-role-of-blockchain-and-crypto-in-it',\n",
       "   'https://www.blockchain-council.org/blockchain/blockchain-technology-in-web-3-0/',\n",
       "   'https://www.gemini.com/cryptopedia/what-is-web3-explained-blockchain-and-web3-crypto-projects',\n",
       "   'https://academy.binance.com/en/articles/what-s-the-relationship-between-blockchain-and-web3',\n",
       "   'https://blockchain-comparison.com/blockchain-knowledge-base/web-3/',\n",
       "   'https://www.cloudflare.com/learning/insights-how-blockchain-web3/',\n",
       "   'https://101blockchains.com/flux-web3/',\n",
       "   'https://www.geeksforgeeks.org/what-is-blockchain-ecosystem/']},\n",
       " {'What is the web3 JavaScript API?': ['https://web3js.org/',\n",
       "   'https://moralis.io/web3-and-javascript-what-is-javascript-and-web3-js/',\n",
       "   'https://web3.hashnode.com/what-is-web3js-an-introduction-into-the-web3js-libraries',\n",
       "   'https://stackoverflow.com/questions/75504501/connecting-with-a-blockchain-node-using-web3-js',\n",
       "   'https://www.codemotion.com/magazine/backend/blockchain/web3-js-ethereum-blockchain-javascript-api/',\n",
       "   'https://ethereum.org/en/web3/',\n",
       "   'https://www.cloudflare.com/learning/insights-how-blockchain-web3/',\n",
       "   'https://ethereum.org/en/developers/docs/apis/javascript/',\n",
       "   'https://consensys.net/blog/blockchain-explained/what-is-web3-here-are-some-ways-to-explain-it-to-a-friend/',\n",
       "   'https://www.gemini.com/cryptopedia/what-is-web3-explained-blockchain-and-web3-crypto-projects']},\n",
       " {'How to use web3?': ['https://ethereum.org/en/web3/',\n",
       "   'https://www.phuture.finance/learn/web3-how-to-use-it',\n",
       "   'https://www.analyticsvidhya.com/blog/2023/01/complete-guide-to-web3-0-ethereum-blockchain-using-python/',\n",
       "   'https://www.binance.com/en-IN/blog/ecosystem/binance-labs-empowering-web3-and-blockchain-technologies-421499824684903923',\n",
       "   'https://dev.to/neelansh15/blockchain-in-javascript-transfer-ether-between-accounts-131h',\n",
       "   'https://soliditydeveloper.com/thegraph',\n",
       "   'https://www.geeksforgeeks.org/what-is-blockchain-ecosystem/',\n",
       "   'https://101blockchains.com/blockchain-ecosystem/',\n",
       "   'https://www.youtube.com/watch?v=yubzJw0uiE4',\n",
       "   'https://bitquery.io/blog/best-blockchain-analysis-tools-and-software']},\n",
       " {'What is the difference between web3 and Ethereum?': ['https://ethereum.org/en/web3/',\n",
       "   'https://ethereum.org/en/developers/docs/web2-vs-web3/',\n",
       "   'https://www.makeuseof.com/difference-between-web3-blockchain-cryptocurrency/',\n",
       "   'https://www.gemini.com/cryptopedia/defi-and-web3-explained-defi-crypto-options-web3-crypto',\n",
       "   'https://dev.to/cibrax/the-web3-ecosystem-for-ethereum-186k',\n",
       "   'https://medium.com/blockchain-new-normal/difference-between-web3-blockchain-and-cryptocurrency-13204807e090',\n",
       "   'https://hbr.org/2022/05/what-is-web3',\n",
       "   'https://www.geeksforgeeks.org/what-is-ethereum/',\n",
       "   'https://difference.guru/difference-between-blockchain-and-web3/',\n",
       "   'https://101blockchains.com/flux-web3/']},\n",
       " {'What are web3 contracts?': ['https://moralis.io/what-are-web3-contracts-exploring-smart-contracts/',\n",
       "   'https://hbr.org/2022/05/what-is-web3',\n",
       "   'https://www.mckinsey.com/industries/financial-services/our-insights/web3-beyond-the-hype',\n",
       "   'https://www.cloudflare.com/learning/insights-how-blockchain-web3/',\n",
       "   'https://ethereum.org/en/web3/',\n",
       "   'https://blog.logrocket.com/web3-py-tutorial-guide-ethereum-blockchain-development-with-python/',\n",
       "   'https://www.gemini.com/cryptopedia/what-is-web3-explained-blockchain-and-web3-crypto-projects',\n",
       "   'https://www.analyticsvidhya.com/blog/2023/01/complete-guide-to-web3-0-ethereum-blockchain-using-python/',\n",
       "   'https://consensys.net/blog/blockchain-explained/what-is-web3-here-are-some-ways-to-explain-it-to-a-friend/',\n",
       "   'https://www.codemotion.com/magazine/backend/blockchain/what-is-web3-and-what-new-capabilities-does-it-bring/']},\n",
       " {'What are the key features of web3?': ['https://www.expert.ai/blog/web-3-0/',\n",
       "   'https://101blockchains.com/top-web3-features/',\n",
       "   'https://ethereum.org/en/web3/',\n",
       "   'https://permission.io/blog/web-3-0/',\n",
       "   'https://www.gemini.com/cryptopedia/what-is-web3-explained-blockchain-and-web3-crypto-projects',\n",
       "   'https://vitalflux.com/what-is-web3-0-features-design-skills-nfts/',\n",
       "   'https://byjus.com/current-affairs/web-3-0/',\n",
       "   'https://www.blockchain-council.org/web-3/understanding-the-interrelationship-between-web3-and-blockchain/',\n",
       "   'https://consensys.net/blog/blockchain-explained/what-is-web3-here-are-some-ways-to-explain-it-to-a-friend/',\n",
       "   'https://www.blockchain-council.org/blockchain/blockchain-technology-in-web-3-0/']},\n",
       " {'How web3 works?': ['https://www.pcmag.com/how-to/what-is-web3-and-how-will-it-work',\n",
       "   'https://hbr.org/2022/05/what-is-web3',\n",
       "   'https://ethereum.org/en/web3/',\n",
       "   'https://www.gemini.com/cryptopedia/what-is-web3-explained-blockchain-and-web3-crypto-projects',\n",
       "   'https://www.businessinsider.com/personal-finance/what-is-web3',\n",
       "   'https://www.cloudflare.com/learning/insights-how-blockchain-web3/',\n",
       "   'https://moralis.io/how-does-web3-work-web3-explained/',\n",
       "   'https://www.blockchain-council.org/blockchain/blockchain-technology-in-web-3-0/',\n",
       "   'https://101blockchains.com/blockchain-in-web-3-0/',\n",
       "   'https://consensys.net/blog/blockchain-explained/what-is-web3-here-are-some-ways-to-explain-it-to-a-friend/']},\n",
       " {'What is the web3 crypto library?': ['https://crypto.com/university/what-is-web3/',\n",
       "   'https://hbr.org/2022/05/what-is-web3',\n",
       "   'https://www.coindesk.com/learn/what-are-web3-cryptos/',\n",
       "   'https://ethereum.org/en/web3/',\n",
       "   'https://www.coincarp.com/learn/what-is-web30-crypto/',\n",
       "   'https://cryptonews.com/guides/what-is-web3.htm',\n",
       "   'https://crypto.news/learn/what-is-web3/',\n",
       "   'https://www.gemini.com/cryptopedia/what-is-web3-explained-blockchain-and-web3-crypto-projects',\n",
       "   'https://www.quora.com/What-is-Web3-in-crypto',\n",
       "   'https://crypto-current.co/what-are-web3-ecosystems/']},\n",
       " {'What type of blockchain is web3?': ['https://ethereum.org/en/web3/',\n",
       "   'https://www.gemini.com/cryptopedia/what-is-web3-explained-blockchain-and-web3-crypto-projects',\n",
       "   'https://101blockchains.com/blockchain-in-web-3-0/',\n",
       "   'https://www.blockchain-council.org/blockchain/blockchain-technology-in-web-3-0/',\n",
       "   'https://www.geeksforgeeks.org/types-of-blockchain/',\n",
       "   'https://www.binance.com/en-IN/blog/ecosystem/binance-labs-empowering-web3-and-blockchain-technologies-421499824684903923',\n",
       "   'https://georgian.io/why-we-need-blockchain-data-infrastructure-to-build-web3/',\n",
       "   'https://www.freecodecamp.org/news/blockchain-apis-how-to-query-on-the-blockchain/',\n",
       "   'https://www.geeksforgeeks.org/what-is-blockchain-ecosystem/',\n",
       "   'https://101blockchains.com/blockchain-ecosystem/']}]"
      ]
     },
     "execution_count": 95,
     "metadata": {},
     "output_type": "execute_result"
    }
   ],
   "source": [
    "urls"
   ]
  }
 ],
 "metadata": {
  "kernelspec": {
   "display_name": "base",
   "language": "python",
   "name": "python3"
  },
  "language_info": {
   "codemirror_mode": {
    "name": "ipython",
    "version": 3
   },
   "file_extension": ".py",
   "mimetype": "text/x-python",
   "name": "python",
   "nbconvert_exporter": "python",
   "pygments_lexer": "ipython3",
   "version": "3.9.13"
  },
  "orig_nbformat": 4,
  "vscode": {
   "interpreter": {
    "hash": "a50c67c2899eff48b42ce193594db3f0465d411cbcbdad9a91476e0c1ace7634"
   }
  }
 },
 "nbformat": 4,
 "nbformat_minor": 2
}
